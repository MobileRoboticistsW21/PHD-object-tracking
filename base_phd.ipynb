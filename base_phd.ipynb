{
  "nbformat": 4,
  "nbformat_minor": 0,
  "metadata": {
    "colab": {
      "name": "base_phd.ipynb",
      "provenance": [],
      "collapsed_sections": []
    },
    "kernelspec": {
      "name": "python3",
      "display_name": "Python 3",
      "language": "python"
    },
    "language_info": {
      "name": "python",
      "version": "3.8.3"
    }
  },
  "cells": [
    {
      "cell_type": "code",
      "metadata": {
        "colab": {
          "base_uri": "https://localhost:8080/"
        },
        "id": "jI8_6t3wKy_g",
        "outputId": "ce002fcd-8670-489c-9314-af4c07911e0c"
      },
      "source": [
        "!git clone https://github.com/MobileRoboticistsW21/PHD-object-traking.git\n",
        "%cd PHD-object-traking/"
      ],
      "execution_count": 1,
      "outputs": [
        {
          "output_type": "stream",
          "text": [
            "Cloning into 'PHD-object-traking'...\n",
            "remote: Enumerating objects: 235, done.\u001b[K\n",
            "remote: Counting objects: 100% (235/235), done.\u001b[K\n",
            "remote: Compressing objects: 100% (164/164), done.\u001b[K\n",
            "remote: Total 235 (delta 118), reused 159 (delta 68), pack-reused 0\u001b[K\n",
            "Receiving objects: 100% (235/235), 4.94 MiB | 11.13 MiB/s, done.\n",
            "Resolving deltas: 100% (118/118), done.\n"
          ],
          "name": "stdout"
        }
      ]
    },
    {
      "cell_type": "code",
      "metadata": {
        "colab": {
          "base_uri": "https://localhost:8080/"
        },
        "id": "fE5Wzi0tzPwk",
        "outputId": "f005787f-b0c4-4b1e-b265-f7aa171c96ce"
      },
      "source": [
        "%cd PHD-object-traking/"
      ],
      "execution_count": 2,
      "outputs": [
        {
          "output_type": "stream",
          "text": [
            "/content/PHD-object-traking\n"
          ],
          "name": "stdout"
        }
      ]
    },
    {
      "cell_type": "code",
      "metadata": {
        "colab": {
          "base_uri": "https://localhost:8080/"
        },
        "id": "3VH1NS78D8PV",
        "outputId": "2a3fe4b5-78a1-498f-a6e3-eb8addc34005"
      },
      "source": [
        "!git checkout plot_in_notebook   # can change this to main if branch is merged \n",
        "!git pull"
      ],
      "execution_count": 4,
      "outputs": [
        {
          "output_type": "stream",
          "text": [
            "Branch 'plot_in_notebook' set up to track remote branch 'plot_in_notebook' from 'origin'.\n",
            "Switched to a new branch 'plot_in_notebook'\n",
            "Already up to date.\n"
          ],
          "name": "stdout"
        }
      ]
    },
    {
      "cell_type": "code",
      "metadata": {
        "id": "nUY97L2n4KTZ",
        "colab": {
          "base_uri": "https://localhost:8080/"
        },
        "outputId": "f7da5d6a-6d4b-4e59-f4d2-15f0edc2cac3"
      },
      "source": [
        "%cd /content/PHD-object-traking/\n",
        "!bash setup.sh\n",
        "!mkdir build\n",
        "%cd build"
      ],
      "execution_count": 5,
      "outputs": [
        {
          "output_type": "stream",
          "text": [
            "/content/PHD-object-traking\n",
            "Reading package lists... Done\n",
            "Building dependency tree       \n",
            "Reading state information... Done\n",
            "libhdf5-dev is already the newest version (1.10.0-patch1+docs-4).\n",
            "0 upgraded, 0 newly installed, 0 to remove and 31 not upgraded.\n",
            "Reading package lists... Done\n",
            "Building dependency tree       \n",
            "Reading state information... Done\n",
            "liblapack-dev is already the newest version (3.7.1-4ubuntu1).\n",
            "libarpack2-dev is already the newest version (3.5.0+real-2).\n",
            "libarpack2-dev set to manually installed.\n",
            "libopenblas-dev is already the newest version (0.2.20+ds-4).\n",
            "libsuperlu-dev is already the newest version (5.2.1+dfsg1-3).\n",
            "libsuperlu-dev set to manually installed.\n",
            "0 upgraded, 0 newly installed, 0 to remove and 31 not upgraded.\n",
            "Reading package lists... Done\n",
            "Building dependency tree       \n",
            "Reading state information... Done\n",
            "wget is already the newest version (1.19.4-1ubuntu2.2).\n",
            "0 upgraded, 0 newly installed, 0 to remove and 31 not upgraded.\n",
            "--2021-04-10 11:40:30--  https://netactuate.dl.sourceforge.net/project/arma/armadillo-10.3.0.tar.xz\n",
            "Resolving netactuate.dl.sourceforge.net (netactuate.dl.sourceforge.net)... 104.225.3.66\n",
            "Connecting to netactuate.dl.sourceforge.net (netactuate.dl.sourceforge.net)|104.225.3.66|:443... connected.\n",
            "HTTP request sent, awaiting response... 200 OK\n",
            "Length: 6214388 (5.9M) [application/octet-stream]\n",
            "Saving to: ‘armadillo-10.3.0.tar.xz’\n",
            "\n",
            "armadillo-10.3.0.ta 100%[===================>]   5.93M  11.1MB/s    in 0.5s    \n",
            "\n",
            "2021-04-10 11:40:30 (11.1 MB/s) - ‘armadillo-10.3.0.tar.xz’ saved [6214388/6214388]\n",
            "\n",
            "-- *** set cmake policy CMP0025 to NEW\n",
            "-- CMAKE_CXX_STANDARD = 11\n",
            "-- The CXX compiler identification is GNU 7.5.0\n",
            "-- The C compiler identification is GNU 7.5.0\n",
            "-- Check for working CXX compiler: /usr/bin/c++\n",
            "-- Check for working CXX compiler: /usr/bin/c++ -- works\n",
            "-- Detecting CXX compiler ABI info\n",
            "-- Detecting CXX compiler ABI info - done\n",
            "-- Detecting CXX compile features\n",
            "-- Detecting CXX compile features - done\n",
            "-- Check for working C compiler: /usr/bin/cc\n",
            "-- Check for working C compiler: /usr/bin/cc -- works\n",
            "-- Detecting C compiler ABI info\n",
            "-- Detecting C compiler ABI info - done\n",
            "-- Detecting C compile features\n",
            "-- Detecting C compile features - done\n",
            "-- Configuring Armadillo 10.3.0\n",
            "-- Detected gcc 4.8.3 or later\n",
            "-- ARMA_USE_EXTERN_RNG = true\n",
            "-- *** CMAKE_INSTALL_PREFIX was initalised by cmake to the default value of /usr/local\n",
            "-- *** CMAKE_INSTALL_PREFIX changed to /usr\n",
            "-- CMAKE_SYSTEM_NAME          = Linux\n",
            "-- CMAKE_CXX_COMPILER_ID      = GNU\n",
            "-- CMAKE_CXX_COMPILER_VERSION = 7.5.0\n",
            "-- CMAKE_COMPILER_IS_GNUCXX   = 1\n",
            "-- BUILD_SHARED_LIBS          = ON\n",
            "-- DETECT_HDF5                = ON\n",
            "-- ALLOW_FLEXIBLAS_LINUX      = OFF\n",
            "-- ALLOW_OPENBLAS_MACOS       = OFF\n",
            "-- ALLOW_BLAS_LAPACK_MACOS    = OFF\n",
            "-- BUILD_SMOKE_TEST           = OFF\n",
            "-- \n",
            "-- *** Looking for external libraries\n",
            "-- Found MKL libraries: /usr/local/lib/libmkl_rt.so\n",
            "-- Found OpenBLAS: /usr/lib/x86_64-linux-gnu/libopenblas.so\n",
            "-- Found ATLAS: /usr/lib/x86_64-linux-gnu/libatlas.so\n",
            "-- Found BLAS: /usr/lib/x86_64-linux-gnu/libblas.so\n",
            "-- Found LAPACK: /usr/lib/x86_64-linux-gnu/liblapack.so\n",
            "--       MKL_FOUND = YES\n",
            "--  OpenBLAS_FOUND = YES\n",
            "--     ATLAS_FOUND = YES\n",
            "--      BLAS_FOUND = YES\n",
            "--    LAPACK_FOUND = YES\n",
            "-- \n",
            "-- *** If the MKL libraries are installed in non-standard locations such as\n",
            "-- *** /opt/intel/mkl, /opt/intel/composerxe/, /usr/local/intel/mkl\n",
            "-- *** make sure the run-time linker can find them.\n",
            "-- *** On Linux systems this can be done by editing /etc/ld.so.conf\n",
            "-- *** or modifying the LD_LIBRARY_PATH environment variable.\n",
            "-- \n",
            "-- *** On systems with SELinux enabled (eg. Fedora, RHEL),\n",
            "-- *** you may need to change the SELinux type of all MKL libraries\n",
            "-- *** to fix permission problems that may occur during run-time.\n",
            "-- \n",
            "-- Found PkgConfig: /usr/bin/pkg-config (found version \"0.29.1\") \n",
            "-- HDF5: Using hdf5 compiler wrapper to determine C configuration\n",
            "-- HDF5_FOUND = TRUE\n",
            "-- ARMA_HDF5_INCLUDE_DIR = /usr/include/hdf5/serial\n",
            "-- \n",
            "-- *** If use of HDF5 is causing problems,\n",
            "-- *** rerun cmake with HDF5 detection disabled:\n",
            "-- *** cmake -D DETECT_HDF5=false .\n",
            "-- \n",
            "-- Found ARPACK: /usr/lib/x86_64-linux-gnu/libarpack.so\n",
            "-- ARPACK_FOUND = YES\n",
            "-- Looking for SuperLU version 5\n",
            "-- Found SuperLU: /usr/lib/x86_64-linux-gnu/libsuperlu.so\n",
            "-- SuperLU_FOUND = YES\n",
            "-- SuperLU_INCLUDE_DIR = /usr/include/superlu\n",
            "-- \n",
            "-- *** Armadillo wrapper library will use the following libraries:\n",
            "-- *** ARMA_LIBS = /usr/local/lib/libmkl_rt.so;/usr/lib/x86_64-linux-gnu/hdf5/serial/libhdf5.so;/usr/lib/x86_64-linux-gnu/libpthread.so;/usr/lib/x86_64-linux-gnu/libsz.so;/usr/lib/x86_64-linux-gnu/libz.so;/usr/lib/x86_64-linux-gnu/libdl.so;/usr/lib/x86_64-linux-gnu/libm.so;/usr/lib/x86_64-linux-gnu/libarpack.so;/usr/lib/x86_64-linux-gnu/libsuperlu.so\n",
            "-- \n",
            "-- Copying /content/PHD-object-traking/armadillo-10.3.0/include/ to /content/PHD-object-traking/armadillo-10.3.0/build/tmp/include/\n",
            "-- Generating /content/PHD-object-traking/armadillo-10.3.0/build/tmp/include/config.hpp\n",
            "-- CMAKE_CXX_FLAGS           =  -O2\n",
            "-- CMAKE_SHARED_LINKER_FLAGS =  -Wl,--no-as-needed\n",
            "-- CMAKE_REQUIRED_INCLUDES   = /usr/include/hdf5/serial;/usr/include/superlu\n",
            "-- \n",
            "-- CMAKE_INSTALL_PREFIX     = /usr\n",
            "-- CMAKE_INSTALL_LIBDIR     = lib/x86_64-linux-gnu\n",
            "-- CMAKE_INSTALL_INCLUDEDIR = include\n",
            "-- CMAKE_INSTALL_DATADIR    = share\n",
            "-- CMAKE_INSTALL_BINDIR     = bin\n",
            "-- Generating '/content/PHD-object-traking/armadillo-10.3.0/build/ArmadilloConfig.cmake'\n",
            "-- Generating '/content/PHD-object-traking/armadillo-10.3.0/build/ArmadilloConfigVersion.cmake'\n",
            "-- Generating '/content/PHD-object-traking/armadillo-10.3.0/build/InstallFiles/ArmadilloConfig.cmake'\n",
            "-- Generating '/content/PHD-object-traking/armadillo-10.3.0/build/InstallFiles/ArmadilloConfigVersion.cmake'\n",
            "-- Copying /content/PHD-object-traking/armadillo-10.3.0/misc/ to /content/PHD-object-traking/armadillo-10.3.0/build/tmp/misc/\n",
            "-- Generating '/content/PHD-object-traking/armadillo-10.3.0/build/tmp/misc/armadillo.pc'\n",
            "-- Configuring done\n",
            "-- Generating done\n",
            "-- Build files have been written to: /content/PHD-object-traking/armadillo-10.3.0/build\n",
            "\u001b[35m\u001b[1mScanning dependencies of target armadillo\u001b[0m\n",
            "[ 33%] \u001b[32mBuilding CXX object CMakeFiles/armadillo.dir/src/wrapper1.cpp.o\u001b[0m\n",
            "[ 66%] \u001b[32mBuilding CXX object CMakeFiles/armadillo.dir/src/wrapper2.cpp.o\u001b[0m\n",
            "[100%] \u001b[32m\u001b[1mLinking CXX shared library libarmadillo.so\u001b[0m\n",
            "[100%] Built target armadillo\n",
            "[100%] Built target armadillo\n",
            "\u001b[36mInstall the project...\u001b[0m\n",
            "-- Install configuration: \"\"\n",
            "-- Up-to-date: /usr/include\n",
            "-- Installing: /usr/include/armadillo\n",
            "-- Up-to-date: /usr/include/armadillo_bits\n",
            "-- Installing: /usr/include/armadillo_bits/spop_normalise_meat.hpp\n",
            "-- Installing: /usr/include/armadillo_bits/fn_shuffle.hpp\n",
            "-- Installing: /usr/include/armadillo_bits/op_sqrtmat_meat.hpp\n",
            "-- Installing: /usr/include/armadillo_bits/newarp_DenseGenMatProd_meat.hpp\n",
            "-- Installing: /usr/include/armadillo_bits/SpProxy.hpp\n",
            "-- Installing: /usr/include/armadillo_bits/op_relational_bones.hpp\n",
            "-- Installing: /usr/include/armadillo_bits/op_shuffle_bones.hpp\n",
            "-- Installing: /usr/include/armadillo_bits/fn_trig.hpp\n",
            "-- Installing: /usr/include/armadillo_bits/translate_lapack.hpp\n",
            "-- Installing: /usr/include/armadillo_bits/spdiagview_bones.hpp\n",
            "-- Installing: /usr/include/armadillo_bits/op_cumsum_bones.hpp\n",
            "-- Installing: /usr/include/armadillo_bits/include_superlu.hpp\n",
            "-- Installing: /usr/include/armadillo_bits/fn_mvnrnd.hpp\n",
            "-- Installing: /usr/include/armadillo_bits/spop_htrans_bones.hpp\n",
            "-- Installing: /usr/include/armadillo_bits/arma_forward.hpp\n",
            "-- Installing: /usr/include/armadillo_bits/include_hdf5.hpp\n",
            "-- Installing: /usr/include/armadillo_bits/fn_range.hpp\n",
            "-- Installing: /usr/include/armadillo_bits/op_normalise_meat.hpp\n",
            "-- Installing: /usr/include/armadillo_bits/spdiagview_meat.hpp\n",
            "-- Installing: /usr/include/armadillo_bits/distr_param.hpp\n",
            "-- Installing: /usr/include/armadillo_bits/fn_trimat_ind.hpp\n",
            "-- Installing: /usr/include/armadillo_bits/running_stat_vec_meat.hpp\n",
            "-- Installing: /usr/include/armadillo_bits/CubeToMatOp_bones.hpp\n",
            "-- Installing: /usr/include/armadillo_bits/glue_times_meat.hpp\n",
            "-- Installing: /usr/include/armadillo_bits/spop_vectorise_bones.hpp\n",
            "-- Installing: /usr/include/armadillo_bits/glue_mixed_bones.hpp\n",
            "-- Installing: /usr/include/armadillo_bits/fn_cumprod.hpp\n",
            "-- Installing: /usr/include/armadillo_bits/glue_histc_bones.hpp\n",
            "-- Installing: /usr/include/armadillo_bits/op_dot_meat.hpp\n",
            "-- Installing: /usr/include/armadillo_bits/fn_powmat.hpp\n",
            "-- Installing: /usr/include/armadillo_bits/glue_histc_meat.hpp\n",
            "-- Installing: /usr/include/armadillo_bits/spglue_minus_meat.hpp\n",
            "-- Installing: /usr/include/armadillo_bits/fn_resize.hpp\n",
            "-- Installing: /usr/include/armadillo_bits/op_hist_bones.hpp\n",
            "-- Installing: /usr/include/armadillo_bits/SpMat_bones.hpp\n",
            "-- Installing: /usr/include/armadillo_bits/glue_toeplitz_bones.hpp\n",
            "-- Installing: /usr/include/armadillo_bits/op_dot_bones.hpp\n",
            "-- Installing: /usr/include/armadillo_bits/op_symmat_meat.hpp\n",
            "-- Installing: /usr/include/armadillo_bits/fn_symmat.hpp\n",
            "-- Installing: /usr/include/armadillo_bits/op_logmat_bones.hpp\n",
            "-- Installing: /usr/include/armadillo_bits/fn_size.hpp\n",
            "-- Installing: /usr/include/armadillo_bits/glue_join_bones.hpp\n",
            "-- Installing: /usr/include/armadillo_bits/subview_meat.hpp\n",
            "-- Installing: /usr/include/armadillo_bits/config.hpp\n",
            "-- Installing: /usr/include/armadillo_bits/GlueCube_meat.hpp\n",
            "-- Installing: /usr/include/armadillo_bits/unwrap_spmat.hpp\n",
            "-- Installing: /usr/include/armadillo_bits/GlueCube_bones.hpp\n",
            "-- Installing: /usr/include/armadillo_bits/glue_mvnrnd_bones.hpp\n",
            "-- Installing: /usr/include/armadillo_bits/fn_hess.hpp\n",
            "-- Installing: /usr/include/armadillo_bits/op_min_meat.hpp\n",
            "-- Installing: /usr/include/armadillo_bits/op_inv_meat.hpp\n",
            "-- Installing: /usr/include/armadillo_bits/op_chi2rnd_meat.hpp\n",
            "-- Installing: /usr/include/armadillo_bits/fn_zeros.hpp\n",
            "-- Installing: /usr/include/armadillo_bits/op_cor_bones.hpp\n",
            "-- Installing: /usr/include/armadillo_bits/fn_eigs_sym.hpp\n",
            "-- Installing: /usr/include/armadillo_bits/SpCol_meat.hpp\n",
            "-- Installing: /usr/include/armadillo_bits/arma_rng_cxx11.hpp\n",
            "-- Installing: /usr/include/armadillo_bits/op_reverse_bones.hpp\n",
            "-- Installing: /usr/include/armadillo_bits/eop_core_meat.hpp\n",
            "-- Installing: /usr/include/armadillo_bits/fn_randperm.hpp\n",
            "-- Installing: /usr/include/armadillo_bits/newarp_SortEigenvalue.hpp\n",
            "-- Installing: /usr/include/armadillo_bits/op_range_bones.hpp\n",
            "-- Installing: /usr/include/armadillo_bits/Op_bones.hpp\n",
            "-- Installing: /usr/include/armadillo_bits/fn_sprandu.hpp\n",
            "-- Installing: /usr/include/armadillo_bits/op_index_max_bones.hpp\n",
            "-- Installing: /usr/include/armadillo_bits/fn_norm.hpp\n",
            "-- Installing: /usr/include/armadillo_bits/promote_type.hpp\n",
            "-- Installing: /usr/include/armadillo_bits/glue_relational_bones.hpp\n",
            "-- Installing: /usr/include/armadillo_bits/fn_strans.hpp\n",
            "-- Installing: /usr/include/armadillo_bits/fn_interp1.hpp\n",
            "-- Installing: /usr/include/armadillo_bits/spop_var_bones.hpp\n",
            "-- Installing: /usr/include/armadillo_bits/fn_eps.hpp\n",
            "-- Installing: /usr/include/armadillo_bits/fn_trimat.hpp\n",
            "-- Installing: /usr/include/armadillo_bits/spop_misc_meat.hpp\n",
            "-- Installing: /usr/include/armadillo_bits/subview_bones.hpp\n",
            "-- Installing: /usr/include/armadillo_bits/gmm_diag_bones.hpp\n",
            "-- Installing: /usr/include/armadillo_bits/fn_inplace_strans.hpp\n",
            "-- Installing: /usr/include/armadillo_bits/op_pinv_meat.hpp\n",
            "-- Installing: /usr/include/armadillo_bits/SpMat_meat.hpp\n",
            "-- Installing: /usr/include/armadillo_bits/glue_cov_meat.hpp\n",
            "-- Installing: /usr/include/armadillo_bits/glue_trapz_meat.hpp\n",
            "-- Installing: /usr/include/armadillo_bits/op_diagmat_bones.hpp\n",
            "-- Installing: /usr/include/armadillo_bits/op_expmat_meat.hpp\n",
            "-- Installing: /usr/include/armadillo_bits/unwrap_cube.hpp\n",
            "-- Installing: /usr/include/armadillo_bits/Proxy.hpp\n",
            "-- Installing: /usr/include/armadillo_bits/spop_htrans_meat.hpp\n",
            "-- Installing: /usr/include/armadillo_bits/op_diagvec_bones.hpp\n",
            "-- Installing: /usr/include/armadillo_bits/Glue_bones.hpp\n",
            "-- Installing: /usr/include/armadillo_bits/op_toeplitz_bones.hpp\n",
            "-- Installing: /usr/include/armadillo_bits/translate_superlu.hpp\n",
            "-- Installing: /usr/include/armadillo_bits/running_stat_vec_bones.hpp\n",
            "-- Installing: /usr/include/armadillo_bits/eOpCube_meat.hpp\n",
            "-- Installing: /usr/include/armadillo_bits/op_mean_meat.hpp\n",
            "-- Installing: /usr/include/armadillo_bits/fn_n_unique.hpp\n",
            "-- Installing: /usr/include/armadillo_bits/SpSubview_bones.hpp\n",
            "-- Installing: /usr/include/armadillo_bits/op_diagvec_meat.hpp\n",
            "-- Installing: /usr/include/armadillo_bits/Col_bones.hpp\n",
            "-- Installing: /usr/include/armadillo_bits/cond_rel_meat.hpp\n",
            "-- Installing: /usr/include/armadillo_bits/op_inv_bones.hpp\n",
            "-- Installing: /usr/include/armadillo_bits/glue_toeplitz_meat.hpp\n",
            "-- Installing: /usr/include/armadillo_bits/mtGlueCube_bones.hpp\n",
            "-- Installing: /usr/include/armadillo_bits/op_flip_meat.hpp\n",
            "-- Installing: /usr/include/armadillo_bits/eOpCube_bones.hpp\n",
            "-- Installing: /usr/include/armadillo_bits/op_hist_meat.hpp\n",
            "-- Installing: /usr/include/armadillo_bits/Base_meat.hpp\n",
            "-- Installing: /usr/include/armadillo_bits/op_repmat_meat.hpp\n",
            "-- Installing: /usr/include/armadillo_bits/spop_max_meat.hpp\n",
            "-- Installing: /usr/include/armadillo_bits/op_sp_plus_bones.hpp\n",
            "-- Installing: /usr/include/armadillo_bits/op_prod_meat.hpp\n",
            "-- Installing: /usr/include/armadillo_bits/op_nonzeros_bones.hpp\n",
            "-- Installing: /usr/include/armadillo_bits/op_vectorise_bones.hpp\n",
            "-- Installing: /usr/include/armadillo_bits/fn_all.hpp\n",
            "-- Installing: /usr/include/armadillo_bits/arma_config.hpp\n",
            "-- Installing: /usr/include/armadillo_bits/eglue_core_bones.hpp\n",
            "-- Installing: /usr/include/armadillo_bits/op_cumprod_meat.hpp\n",
            "-- Installing: /usr/include/armadillo_bits/csv_name.hpp\n",
            "-- Installing: /usr/include/armadillo_bits/fn_reshape.hpp\n",
            "-- Installing: /usr/include/armadillo_bits/fn_dot.hpp\n",
            "-- Installing: /usr/include/armadillo_bits/field_meat.hpp\n",
            "-- Installing: /usr/include/armadillo_bits/spglue_join_bones.hpp\n",
            "-- Installing: /usr/include/armadillo_bits/diskio_meat.hpp\n",
            "-- Installing: /usr/include/armadillo_bits/subview_elem2_meat.hpp\n",
            "-- Installing: /usr/include/armadillo_bits/op_stddev_meat.hpp\n",
            "-- Installing: /usr/include/armadillo_bits/op_resize_bones.hpp\n",
            "-- Installing: /usr/include/armadillo_bits/fn_unique.hpp\n",
            "-- Installing: /usr/include/armadillo_bits/op_cond_bones.hpp\n",
            "-- Installing: /usr/include/armadillo_bits/def_arpack.hpp\n",
            "-- Installing: /usr/include/armadillo_bits/fn_find.hpp\n",
            "-- Installing: /usr/include/armadillo_bits/SpCol_bones.hpp\n",
            "-- Installing: /usr/include/armadillo_bits/op_norm_meat.hpp\n",
            "-- Installing: /usr/include/armadillo_bits/fn_stddev.hpp\n",
            "-- Installing: /usr/include/armadillo_bits/constants_old.hpp\n",
            "-- Installing: /usr/include/armadillo_bits/fn_normalise.hpp\n",
            "-- Installing: /usr/include/armadillo_bits/fn_log_det.hpp\n",
            "-- Installing: /usr/include/armadillo_bits/op_sort_index_meat.hpp\n",
            "-- Installing: /usr/include/armadillo_bits/mtSpOp_meat.hpp\n",
            "-- Installing: /usr/include/armadillo_bits/Cube_meat.hpp\n",
            "-- Installing: /usr/include/armadillo_bits/op_misc_meat.hpp\n",
            "-- Installing: /usr/include/armadillo_bits/spglue_merge_meat.hpp\n",
            "-- Installing: /usr/include/armadillo_bits/fn_princomp.hpp\n",
            "-- Installing: /usr/include/armadillo_bits/SpGlue_bones.hpp\n",
            "-- Installing: /usr/include/armadillo_bits/fn_lu.hpp\n",
            "-- Installing: /usr/include/armadillo_bits/SpToDOp_meat.hpp\n",
            "-- Installing: /usr/include/armadillo_bits/fn_prod.hpp\n",
            "-- Installing: /usr/include/armadillo_bits/operator_schur.hpp\n",
            "-- Installing: /usr/include/armadillo_bits/diagmat_proxy.hpp\n",
            "-- Installing: /usr/include/armadillo_bits/spop_max_bones.hpp\n",
            "-- Installing: /usr/include/armadillo_bits/SpSubview_iterators_meat.hpp\n",
            "-- Installing: /usr/include/armadillo_bits/op_repelem_meat.hpp\n",
            "-- Installing: /usr/include/armadillo_bits/op_find_bones.hpp\n",
            "-- Installing: /usr/include/armadillo_bits/arma_ostream_meat.hpp\n",
            "-- Installing: /usr/include/armadillo_bits/op_shift_meat.hpp\n",
            "-- Installing: /usr/include/armadillo_bits/glue_cor_meat.hpp\n",
            "-- Installing: /usr/include/armadillo_bits/glue_cross_meat.hpp\n",
            "-- Installing: /usr/include/armadillo_bits/op_all_meat.hpp\n",
            "-- Installing: /usr/include/armadillo_bits/newarp_GenEigsSolver_bones.hpp\n",
            "-- Installing: /usr/include/armadillo_bits/subview_cube_each_bones.hpp\n",
            "-- Installing: /usr/include/armadillo_bits/fn_eigs_gen.hpp\n",
            "-- Installing: /usr/include/armadillo_bits/fn_interp2.hpp\n",
            "-- Installing: /usr/include/armadillo_bits/fn_index_max.hpp\n",
            "-- Installing: /usr/include/armadillo_bits/fn_numel.hpp\n",
            "-- Installing: /usr/include/armadillo_bits/operator_relational.hpp\n",
            "-- Installing: /usr/include/armadillo_bits/fn_schur.hpp\n",
            "-- Installing: /usr/include/armadillo_bits/newarp_SymEigsShiftSolver_bones.hpp\n",
            "-- Installing: /usr/include/armadillo_bits/op_cumsum_meat.hpp\n",
            "-- Installing: /usr/include/armadillo_bits/spop_mean_bones.hpp\n",
            "-- Installing: /usr/include/armadillo_bits/op_vectorise_meat.hpp\n",
            "-- Installing: /usr/include/armadillo_bits/op_sp_plus_meat.hpp\n",
            "-- Installing: /usr/include/armadillo_bits/operator_cube_times.hpp\n",
            "-- Installing: /usr/include/armadillo_bits/running_stat_meat.hpp\n",
            "-- Installing: /usr/include/armadillo_bits/CubeToMatOp_meat.hpp\n",
            "-- Installing: /usr/include/armadillo_bits/access.hpp\n",
            "-- Installing: /usr/include/armadillo_bits/op_unique_bones.hpp\n",
            "-- Installing: /usr/include/armadillo_bits/op_trimat_bones.hpp\n",
            "-- Installing: /usr/include/armadillo_bits/operator_cube_plus.hpp\n",
            "-- Installing: /usr/include/armadillo_bits/diskio_bones.hpp\n",
            "-- Installing: /usr/include/armadillo_bits/SpBase_bones.hpp\n",
            "-- Installing: /usr/include/armadillo_bits/fft_engine.hpp\n",
            "-- Installing: /usr/include/armadillo_bits/spglue_kron_bones.hpp\n",
            "-- Installing: /usr/include/armadillo_bits/subview_cube_bones.hpp\n",
            "-- Installing: /usr/include/armadillo_bits/fn_qz.hpp\n",
            "-- Installing: /usr/include/armadillo_bits/SpBase_meat.hpp\n",
            "-- Installing: /usr/include/armadillo_bits/op_unique_meat.hpp\n",
            "-- Installing: /usr/include/armadillo_bits/fn_any.hpp\n",
            "-- Installing: /usr/include/armadillo_bits/glue_mvnrnd_meat.hpp\n",
            "-- Installing: /usr/include/armadillo_bits/auxlib_bones.hpp\n",
            "-- Installing: /usr/include/armadillo_bits/glue_atan2_meat.hpp\n",
            "-- Installing: /usr/include/armadillo_bits/op_misc_bones.hpp\n",
            "-- Installing: /usr/include/armadillo_bits/spop_repmat_bones.hpp\n",
            "-- Installing: /usr/include/armadillo_bits/SpOp_bones.hpp\n",
            "-- Installing: /usr/include/armadillo_bits/op_princomp_meat.hpp\n",
            "-- Installing: /usr/include/armadillo_bits/Op_meat.hpp\n",
            "-- Installing: /usr/include/armadillo_bits/translate_atlas.hpp\n",
            "-- Installing: /usr/include/armadillo_bits/fn_qr.hpp\n",
            "-- Installing: /usr/include/armadillo_bits/SpValProxy_meat.hpp\n",
            "-- Installing: /usr/include/armadillo_bits/operator_div.hpp\n",
            "-- Installing: /usr/include/armadillo_bits/glue_cov_bones.hpp\n",
            "-- Installing: /usr/include/armadillo_bits/op_trimat_meat.hpp\n",
            "-- Installing: /usr/include/armadillo_bits/spop_reverse_bones.hpp\n",
            "-- Installing: /usr/include/armadillo_bits/fn_chi2rnd.hpp\n",
            "-- Installing: /usr/include/armadillo_bits/wall_clock_bones.hpp\n",
            "-- Installing: /usr/include/armadillo_bits/op_shuffle_meat.hpp\n",
            "-- Installing: /usr/include/armadillo_bits/Gen_bones.hpp\n",
            "-- Installing: /usr/include/armadillo_bits/fn_trapz.hpp\n",
            "-- Installing: /usr/include/armadillo_bits/spglue_min_bones.hpp\n",
            "-- Installing: /usr/include/armadillo_bits/SizeCube_bones.hpp\n",
            "-- Installing: /usr/include/armadillo_bits/op_cond_meat.hpp\n",
            "-- Installing: /usr/include/armadillo_bits/op_prod_bones.hpp\n",
            "-- Installing: /usr/include/armadillo_bits/op_max_meat.hpp\n",
            "-- Installing: /usr/include/armadillo_bits/spop_trimat_meat.hpp\n",
            "-- Installing: /usr/include/armadillo_bits/SizeCube_meat.hpp\n",
            "-- Installing: /usr/include/armadillo_bits/eop_aux.hpp\n",
            "-- Installing: /usr/include/armadillo_bits/fn_quantile.hpp\n",
            "-- Installing: /usr/include/armadillo_bits/fn_mean.hpp\n",
            "-- Installing: /usr/include/armadillo_bits/glue_polyval_meat.hpp\n",
            "-- Installing: /usr/include/armadillo_bits/GenCube_bones.hpp\n",
            "-- Installing: /usr/include/armadillo_bits/fn_median.hpp\n",
            "-- Installing: /usr/include/armadillo_bits/op_max_bones.hpp\n",
            "-- Installing: /usr/include/armadillo_bits/op_cov_meat.hpp\n",
            "-- Installing: /usr/include/armadillo_bits/fn_min.hpp\n",
            "-- Installing: /usr/include/armadillo_bits/spop_strans_meat.hpp\n",
            "-- Installing: /usr/include/armadillo_bits/OpCube_bones.hpp\n",
            "-- Installing: /usr/include/armadillo_bits/glue_quantile_bones.hpp\n",
            "-- Installing: /usr/include/armadillo_bits/op_wishrnd_meat.hpp\n",
            "-- Installing: /usr/include/armadillo_bits/op_nonzeros_meat.hpp\n",
            "-- Installing: /usr/include/armadillo_bits/op_sp_minus_bones.hpp\n",
            "-- Installing: /usr/include/armadillo_bits/fn_cor.hpp\n",
            "-- Installing: /usr/include/armadillo_bits/spop_trimat_bones.hpp\n",
            "-- Installing: /usr/include/armadillo_bits/glue_affmul_meat.hpp\n",
            "-- Installing: /usr/include/armadillo_bits/spop_vectorise_meat.hpp\n",
            "-- Installing: /usr/include/armadillo_bits/fn_repelem.hpp\n",
            "-- Installing: /usr/include/armadillo_bits/glue_atan2_bones.hpp\n",
            "-- Installing: /usr/include/armadillo_bits/compiler_setup.hpp\n",
            "-- Installing: /usr/include/armadillo_bits/op_diff_bones.hpp\n",
            "-- Installing: /usr/include/armadillo_bits/mtGlue_bones.hpp\n",
            "-- Installing: /usr/include/armadillo_bits/sympd_helper.hpp\n",
            "-- Installing: /usr/include/armadillo_bits/typedef_mat_fixed.hpp\n",
            "-- Installing: /usr/include/armadillo_bits/op_powmat_meat.hpp\n",
            "-- Installing: /usr/include/armadillo_bits/fn_max.hpp\n",
            "-- Installing: /usr/include/armadillo_bits/newarp_SparseGenMatProd_bones.hpp\n",
            "-- Installing: /usr/include/armadillo_bits/typedef_mat.hpp\n",
            "-- Installing: /usr/include/armadillo_bits/fn_svds.hpp\n",
            "-- Installing: /usr/include/armadillo_bits/gmm_diag_meat.hpp\n",
            "-- Installing: /usr/include/armadillo_bits/podarray_meat.hpp\n",
            "-- Installing: /usr/include/armadillo_bits/fn_eye.hpp\n",
            "-- Installing: /usr/include/armadillo_bits/fn_cumsum.hpp\n",
            "-- Installing: /usr/include/armadillo_bits/op_wishrnd_bones.hpp\n",
            "-- Installing: /usr/include/armadillo_bits/SpSubview_meat.hpp\n",
            "-- Installing: /usr/include/armadillo_bits/spglue_min_meat.hpp\n",
            "-- Installing: /usr/include/armadillo_bits/op_diff_meat.hpp\n",
            "-- Installing: /usr/include/armadillo_bits/spglue_max_meat.hpp\n",
            "-- Installing: /usr/include/armadillo_bits/auxlib_meat.hpp\n",
            "-- Installing: /usr/include/armadillo_bits/fn_find_unique.hpp\n",
            "-- Installing: /usr/include/armadillo_bits/Row_bones.hpp\n",
            "-- Installing: /usr/include/armadillo_bits/compiler_setup_post.hpp\n",
            "-- Installing: /usr/include/armadillo_bits/def_hdf5.hpp\n",
            "-- Installing: /usr/include/armadillo_bits/newarp_UpperHessenbergEigen_meat.hpp\n",
            "-- Installing: /usr/include/armadillo_bits/fn_join.hpp\n",
            "-- Installing: /usr/include/armadillo_bits/eOp_meat.hpp\n",
            "-- Installing: /usr/include/armadillo_bits/op_relational_meat.hpp\n",
            "-- Installing: /usr/include/armadillo_bits/subview_elem2_bones.hpp\n",
            "-- Installing: /usr/include/armadillo_bits/fn_approx_equal.hpp\n",
            "-- Installing: /usr/include/armadillo_bits/Row_meat.hpp\n",
            "-- Installing: /usr/include/armadillo_bits/SizeMat_bones.hpp\n",
            "-- Installing: /usr/include/armadillo_bits/arrayops_meat.hpp\n",
            "-- Installing: /usr/include/armadillo_bits/fn_sort_index.hpp\n",
            "-- Installing: /usr/include/armadillo_bits/op_princomp_bones.hpp\n",
            "-- Installing: /usr/include/armadillo_bits/arma_cmath.hpp\n",
            "-- Installing: /usr/include/armadillo_bits/restrictors.hpp\n",
            "-- Installing: /usr/include/armadillo_bits/fn_solve.hpp\n",
            "-- Installing: /usr/include/armadillo_bits/eglue_core_meat.hpp\n",
            "-- Installing: /usr/include/armadillo_bits/op_norm_bones.hpp\n",
            "-- Installing: /usr/include/armadillo_bits/glue_mixed_meat.hpp\n",
            "-- Installing: /usr/include/armadillo_bits/SpSubview_col_list_bones.hpp\n",
            "-- Installing: /usr/include/armadillo_bits/fn_as_scalar.hpp\n",
            "-- Installing: /usr/include/armadillo_bits/Mat_meat.hpp\n",
            "-- Installing: /usr/include/armadillo_bits/op_index_min_bones.hpp\n",
            "-- Installing: /usr/include/armadillo_bits/subview_each_meat.hpp\n",
            "-- Installing: /usr/include/armadillo_bits/fn_normpdf.hpp\n",
            "-- Installing: /usr/include/armadillo_bits/glue_max_bones.hpp\n",
            "-- Installing: /usr/include/armadillo_bits/glue_hist_meat.hpp\n",
            "-- Installing: /usr/include/armadillo_bits/SpValProxy_bones.hpp\n",
            "-- Installing: /usr/include/armadillo_bits/fn_log_normpdf.hpp\n",
            "-- Installing: /usr/include/armadillo_bits/op_chi2rnd_bones.hpp\n",
            "-- Installing: /usr/include/armadillo_bits/spop_symmat_bones.hpp\n",
            "-- Installing: /usr/include/armadillo_bits/unwrap.hpp\n",
            "-- Installing: /usr/include/armadillo_bits/fn_vectorise.hpp\n",
            "-- Installing: /usr/include/armadillo_bits/newarp_GenEigsSolver_meat.hpp\n",
            "-- Installing: /usr/include/armadillo_bits/glue_polyfit_meat.hpp\n",
            "-- Installing: /usr/include/armadillo_bits/glue_kron_bones.hpp\n",
            "-- Installing: /usr/include/armadillo_bits/Cube_bones.hpp\n",
            "-- Installing: /usr/include/armadillo_bits/hdf5_name.hpp\n",
            "-- Installing: /usr/include/armadillo_bits/arma_rel_comparators.hpp\n",
            "-- Installing: /usr/include/armadillo_bits/fn_inv.hpp\n",
            "-- Installing: /usr/include/armadillo_bits/fn_eig_pair.hpp\n",
            "-- Installing: /usr/include/armadillo_bits/spop_mean_meat.hpp\n",
            "-- Installing: /usr/include/armadillo_bits/Col_meat.hpp\n",
            "-- Installing: /usr/include/armadillo_bits/op_chol_meat.hpp\n",
            "-- Installing: /usr/include/armadillo_bits/MapMat_meat.hpp\n",
            "-- Installing: /usr/include/armadillo_bits/op_fft_meat.hpp\n",
            "-- Installing: /usr/include/armadillo_bits/arma_ostream_bones.hpp\n",
            "-- Installing: /usr/include/armadillo_bits/op_median_meat.hpp\n",
            "-- Installing: /usr/include/armadillo_bits/fn_polyval.hpp\n",
            "-- Installing: /usr/include/armadillo_bits/op_find_meat.hpp\n",
            "-- Installing: /usr/include/armadillo_bits/fn_histc.hpp\n",
            "-- Installing: /usr/include/armadillo_bits/spop_repmat_meat.hpp\n",
            "-- Installing: /usr/include/armadillo_bits/fn_elem.hpp\n",
            "-- Installing: /usr/include/armadillo_bits/fn_toeplitz.hpp\n",
            "-- Installing: /usr/include/armadillo_bits/trimat_helper.hpp\n",
            "-- Installing: /usr/include/armadillo_bits/newarp_SymEigsShiftSolver_meat.hpp\n",
            "-- Installing: /usr/include/armadillo_bits/arma_static_check.hpp\n",
            "-- Installing: /usr/include/armadillo_bits/spglue_times_bones.hpp\n",
            "-- Installing: /usr/include/armadillo_bits/fn_nonzeros.hpp\n",
            "-- Installing: /usr/include/armadillo_bits/op_clamp_bones.hpp\n",
            "-- Installing: /usr/include/armadillo_bits/glue_affmul_bones.hpp\n",
            "-- Installing: /usr/include/armadillo_bits/mtGlueCube_meat.hpp\n",
            "-- Installing: /usr/include/armadillo_bits/fn_spsolve.hpp\n",
            "-- Installing: /usr/include/armadillo_bits/op_sort_bones.hpp\n",
            "-- Installing: /usr/include/armadillo_bits/spglue_plus_bones.hpp\n",
            "-- Installing: /usr/include/armadillo_bits/spglue_relational_meat.hpp\n",
            "-- Installing: /usr/include/armadillo_bits/xtrans_mat_bones.hpp\n",
            "-- Installing: /usr/include/armadillo_bits/fn_speye.hpp\n",
            "-- Installing: /usr/include/armadillo_bits/compiler_check.hpp\n",
            "-- Installing: /usr/include/armadillo_bits/glue_intersect_meat.hpp\n",
            "-- Installing: /usr/include/armadillo_bits/fn_expmat.hpp\n",
            "-- Installing: /usr/include/armadillo_bits/op_cov_bones.hpp\n",
            "-- Installing: /usr/include/armadillo_bits/SpRow_bones.hpp\n",
            "-- Installing: /usr/include/armadillo_bits/spglue_kron_meat.hpp\n",
            "-- Installing: /usr/include/armadillo_bits/op_clamp_meat.hpp\n",
            "-- Installing: /usr/include/armadillo_bits/fn_chol.hpp\n",
            "-- Installing: /usr/include/armadillo_bits/spglue_join_meat.hpp\n",
            "-- Installing: /usr/include/armadillo_bits/spop_min_bones.hpp\n",
            "-- Installing: /usr/include/armadillo_bits/operator_cube_div.hpp\n",
            "-- Installing: /usr/include/armadillo_bits/newarp_EigsSelect.hpp\n",
            "-- Installing: /usr/include/armadillo_bits/newarp_TridiagEigen_bones.hpp\n",
            "-- Installing: /usr/include/armadillo_bits/Glue_meat.hpp\n",
            "-- Installing: /usr/include/armadillo_bits/glue_kron_meat.hpp\n",
            "-- Installing: /usr/include/armadillo_bits/SpSubview_col_list_meat.hpp\n",
            "-- Installing: /usr/include/armadillo_bits/fn_conv.hpp\n",
            "-- Installing: /usr/include/armadillo_bits/op_index_max_meat.hpp\n",
            "-- Installing: /usr/include/armadillo_bits/fn_rank.hpp\n",
            "-- Installing: /usr/include/armadillo_bits/spglue_schur_bones.hpp\n",
            "-- Installing: /usr/include/armadillo_bits/mul_syrk.hpp\n",
            "-- Installing: /usr/include/armadillo_bits/mtSpOp_bones.hpp\n",
            "-- Installing: /usr/include/armadillo_bits/fn_randg.hpp\n",
            "-- Installing: /usr/include/armadillo_bits/op_roots_meat.hpp\n",
            "-- Installing: /usr/include/armadillo_bits/SpOp_meat.hpp\n",
            "-- Installing: /usr/include/armadillo_bits/glue_cross_bones.hpp\n",
            "-- Installing: /usr/include/armadillo_bits/glue_solve_meat.hpp\n",
            "-- Installing: /usr/include/armadillo_bits/fn_det.hpp\n",
            "-- Installing: /usr/include/armadillo_bits/op_stddev_bones.hpp\n",
            "-- Installing: /usr/include/armadillo_bits/fn_randu.hpp\n",
            "-- Installing: /usr/include/armadillo_bits/constants.hpp\n",
            "-- Installing: /usr/include/armadillo_bits/spop_diagmat_meat.hpp\n",
            "-- Installing: /usr/include/armadillo_bits/newarp_UpperHessenbergEigen_bones.hpp\n",
            "-- Installing: /usr/include/armadillo_bits/fn_inplace_trans.hpp\n",
            "-- Installing: /usr/include/armadillo_bits/spglue_max_bones.hpp\n",
            "-- Installing: /usr/include/armadillo_bits/operator_cube_schur.hpp\n",
            "-- Installing: /usr/include/armadillo_bits/fn_accu.hpp\n",
            "-- Installing: /usr/include/armadillo_bits/fn_eig_gen.hpp\n",
            "-- Installing: /usr/include/armadillo_bits/fn_misc.hpp\n",
            "-- Installing: /usr/include/armadillo_bits/newarp_SymEigsSolver_bones.hpp\n",
            "-- Installing: /usr/include/armadillo_bits/field_bones.hpp\n",
            "-- Installing: /usr/include/armadillo_bits/fn_pinv.hpp\n",
            "-- Installing: /usr/include/armadillo_bits/fn_cross.hpp\n",
            "-- Installing: /usr/include/armadillo_bits/spop_diagmat_bones.hpp\n",
            "-- Installing: /usr/include/armadillo_bits/Base_bones.hpp\n",
            "-- Installing: /usr/include/armadillo_bits/def_blas.hpp\n",
            "-- Installing: /usr/include/armadillo_bits/translate_arpack.hpp\n",
            "-- Installing: /usr/include/armadillo_bits/arma_rng_cxx98.hpp\n",
            "-- Installing: /usr/include/armadillo_bits/arma_rng.hpp\n",
            "-- Installing: /usr/include/armadillo_bits/fn_hist.hpp\n",
            "-- Installing: /usr/include/armadillo_bits/newarp_SparseGenRealShiftSolve_meat.hpp\n",
            "-- Installing: /usr/include/armadillo_bits/BaseCube_meat.hpp\n",
            "-- Installing: /usr/include/armadillo_bits/def_superlu.hpp\n",
            "-- Installing: /usr/include/armadillo_bits/op_toeplitz_meat.hpp\n",
            "-- Installing: /usr/include/armadillo_bits/op_repelem_bones.hpp\n",
            "-- Installing: /usr/include/armadillo_bits/subview_cube_slices_meat.hpp\n",
            "-- Installing: /usr/include/armadillo_bits/op_orth_null_bones.hpp\n",
            "-- Installing: /usr/include/armadillo_bits/fn_polyfit.hpp\n",
            "-- Installing: /usr/include/armadillo_bits/mtOpCube_meat.hpp\n",
            "-- Installing: /usr/include/armadillo_bits/spop_min_meat.hpp\n",
            "-- Installing: /usr/include/armadillo_bits/fn_eig_sym.hpp\n",
            "-- Installing: /usr/include/armadillo_bits/mul_herk.hpp\n",
            "-- Installing: /usr/include/armadillo_bits/fn_spones.hpp\n",
            "-- Installing: /usr/include/armadillo_bits/newarp_UpperHessenbergQR_meat.hpp\n",
            "-- Installing: /usr/include/armadillo_bits/operator_cube_relational.hpp\n",
            "-- Installing: /usr/include/armadillo_bits/op_find_unique_bones.hpp\n",
            "-- Installing: /usr/include/armadillo_bits/diagview_bones.hpp\n",
            "-- Installing: /usr/include/armadillo_bits/op_sort_index_bones.hpp\n",
            "-- Installing: /usr/include/armadillo_bits/fn_ones.hpp\n",
            "-- Installing: /usr/include/armadillo_bits/op_reshape_bones.hpp\n",
            "-- Installing: /usr/include/armadillo_bits/operator_cube_minus.hpp\n",
            "-- Installing: /usr/include/armadillo_bits/mtOpCube_bones.hpp\n",
            "-- Installing: /usr/include/armadillo_bits/op_cx_scalar_meat.hpp\n",
            "-- Installing: /usr/include/armadillo_bits/op_sum_meat.hpp\n",
            "-- Installing: /usr/include/armadillo_bits/spop_sum_bones.hpp\n",
            "-- Installing: /usr/include/armadillo_bits/fn_svd.hpp\n",
            "-- Installing: /usr/include/armadillo_bits/fn_kron.hpp\n",
            "-- Installing: /usr/include/armadillo_bits/op_normalise_bones.hpp\n",
            "-- Installing: /usr/include/armadillo_bits/spop_reverse_meat.hpp\n",
            "-- Installing: /usr/include/armadillo_bits/spop_var_meat.hpp\n",
            "-- Installing: /usr/include/armadillo_bits/op_sqrtmat_bones.hpp\n",
            "-- Installing: /usr/include/armadillo_bits/subview_cube_slices_bones.hpp\n",
            "-- Installing: /usr/include/armadillo_bits/fn_diagmat.hpp\n",
            "-- Installing: /usr/include/armadillo_bits/newarp_DenseGenMatProd_bones.hpp\n",
            "-- Installing: /usr/include/armadillo_bits/Gen_meat.hpp\n",
            "-- Installing: /usr/include/armadillo_bits/fn_trace.hpp\n",
            "-- Installing: /usr/include/armadillo_bits/fn_trunc_log.hpp\n",
            "-- Installing: /usr/include/armadillo_bits/op_any_meat.hpp\n",
            "-- Installing: /usr/include/armadillo_bits/op_any_bones.hpp\n",
            "-- Installing: /usr/include/armadillo_bits/spop_symmat_meat.hpp\n",
            "-- Installing: /usr/include/armadillo_bits/mp_misc.hpp\n",
            "-- Installing: /usr/include/armadillo_bits/fn_logmat.hpp\n",
            "-- Installing: /usr/include/armadillo_bits/op_dotext_bones.hpp\n",
            "-- Installing: /usr/include/armadillo_bits/subview_elem1_meat.hpp\n",
            "-- Installing: /usr/include/armadillo_bits/def_lapack.hpp\n",
            "-- Installing: /usr/include/armadillo_bits/op_sp_minus_meat.hpp\n",
            "-- Installing: /usr/include/armadillo_bits/glue_max_meat.hpp\n",
            "-- Installing: /usr/include/armadillo_bits/op_symmat_bones.hpp\n",
            "-- Installing: /usr/include/armadillo_bits/debug.hpp\n",
            "-- Installing: /usr/include/armadillo_bits/podarray_bones.hpp\n",
            "-- Installing: /usr/include/armadillo_bits/newarp_SparseGenRealShiftSolve_bones.hpp\n",
            "-- Installing: /usr/include/armadillo_bits/glue_conv_meat.hpp\n",
            "-- Installing: /usr/include/armadillo_bits/cond_rel_bones.hpp\n",
            "-- Installing: /usr/include/armadillo_bits/spglue_times_meat.hpp\n",
            "-- Installing: /usr/include/armadillo_bits/op_dotext_meat.hpp\n",
            "-- Installing: /usr/include/armadillo_bits/fn_flip.hpp\n",
            "-- Installing: /usr/include/armadillo_bits/newarp_DoubleShiftQR_meat.hpp\n",
            "-- Installing: /usr/include/armadillo_bits/SpGlue_meat.hpp\n",
            "-- Installing: /usr/include/armadillo_bits/fn_conv_to.hpp\n",
            "-- Installing: /usr/include/armadillo_bits/arma_version.hpp\n",
            "-- Installing: /usr/include/armadillo_bits/spop_normalise_bones.hpp\n",
            "-- Installing: /usr/include/armadillo_bits/glue_cor_bones.hpp\n",
            "-- Installing: /usr/include/armadillo_bits/sp_auxlib_bones.hpp\n",
            "-- Installing: /usr/include/armadillo_bits/operator_plus.hpp\n",
            "-- Installing: /usr/include/armadillo_bits/xvec_htrans_bones.hpp\n",
            "-- Installing: /usr/include/armadillo_bits/fn_sprandn.hpp\n",
            "-- Installing: /usr/include/armadillo_bits/newarp_SymEigsSolver_meat.hpp\n",
            "-- Installing: /usr/include/armadillo_bits/glue_hypot_bones.hpp\n",
            "-- Installing: /usr/include/armadillo_bits/newarp_UpperHessenbergQR_bones.hpp\n",
            "-- Installing: /usr/include/armadillo_bits/newarp_TridiagEigen_meat.hpp\n",
            "-- Installing: /usr/include/armadillo_bits/arma_str.hpp\n",
            "-- Installing: /usr/include/armadillo_bits/glue_intersect_bones.hpp\n",
            "-- Installing: /usr/include/armadillo_bits/fn_regspace.hpp\n",
            "-- Installing: /usr/include/armadillo_bits/BaseCube_bones.hpp\n",
            "-- Installing: /usr/include/armadillo_bits/translate_blas.hpp\n",
            "-- Installing: /usr/include/armadillo_bits/strip.hpp\n",
            "-- Installing: /usr/include/armadillo_bits/spop_misc_bones.hpp\n",
            "-- Installing: /usr/include/armadillo_bits/op_repmat_bones.hpp\n",
            "-- Installing: /usr/include/armadillo_bits/glue_hist_bones.hpp\n",
            "-- Installing: /usr/include/armadillo_bits/mtSpGlue_bones.hpp\n",
            "-- Installing: /usr/include/armadillo_bits/op_all_bones.hpp\n",
            "-- Installing: /usr/include/armadillo_bits/gmm_full_meat.hpp\n",
            "-- Installing: /usr/include/armadillo_bits/ProxyCube.hpp\n",
            "-- Installing: /usr/include/armadillo_bits/mul_gemm_mixed.hpp\n",
            "-- Installing: /usr/include/armadillo_bits/gmm_full_bones.hpp\n",
            "-- Installing: /usr/include/armadillo_bits/xvec_htrans_meat.hpp\n",
            "-- Installing: /usr/include/armadillo_bits/op_fft_bones.hpp\n",
            "-- Installing: /usr/include/armadillo_bits/op_logmat_meat.hpp\n",
            "-- Installing: /usr/include/armadillo_bits/gmm_misc_meat.hpp\n",
            "-- Installing: /usr/include/armadillo_bits/fn_cov.hpp\n",
            "-- Installing: /usr/include/armadillo_bits/subview_cube_each_meat.hpp\n",
            "-- Installing: /usr/include/armadillo_bits/subview_field_bones.hpp\n",
            "-- Installing: /usr/include/armadillo_bits/op_expmat_bones.hpp\n",
            "-- Installing: /usr/include/armadillo_bits/fn_cond.hpp\n",
            "-- Installing: /usr/include/armadillo_bits/injector_meat.hpp\n",
            "-- Installing: /usr/include/armadillo_bits/fn_fft.hpp\n",
            "-- Installing: /usr/include/armadillo_bits/mul_gemv.hpp\n",
            "-- Installing: /usr/include/armadillo_bits/fn_trans.hpp\n",
            "-- Installing: /usr/include/armadillo_bits/spglue_minus_bones.hpp\n",
            "-- Installing: /usr/include/armadillo_bits/GenCube_meat.hpp\n",
            "-- Installing: /usr/include/armadillo_bits/fn_trunc_exp.hpp\n",
            "-- Installing: /usr/include/armadillo_bits/typedef_elem_check.hpp\n",
            "-- Installing: /usr/include/armadillo_bits/fn_randn.hpp\n",
            "-- Installing: /usr/include/armadillo_bits/fn_sqrtmat.hpp\n",
            "-- Installing: /usr/include/armadillo_bits/op_cor_meat.hpp\n",
            "-- Installing: /usr/include/armadillo_bits/include_atlas.hpp\n",
            "-- Installing: /usr/include/armadillo_bits/op_cumprod_bones.hpp\n",
            "-- Installing: /usr/include/armadillo_bits/op_orth_null_meat.hpp\n",
            "-- Installing: /usr/include/armadillo_bits/subview_cube_meat.hpp\n",
            "-- Installing: /usr/include/armadillo_bits/spglue_relational_bones.hpp\n",
            "-- Installing: /usr/include/armadillo_bits/glue_min_bones.hpp\n",
            "-- Installing: /usr/include/armadillo_bits/fn_var.hpp\n",
            "-- Installing: /usr/include/armadillo_bits/eGlue_bones.hpp\n",
            "-- Installing: /usr/include/armadillo_bits/glue_min_meat.hpp\n",
            "-- Installing: /usr/include/armadillo_bits/op_min_bones.hpp\n",
            "-- Installing: /usr/include/armadillo_bits/SpRow_meat.hpp\n",
            "-- Installing: /usr/include/armadillo_bits/op_mean_bones.hpp\n",
            "-- Installing: /usr/include/armadillo_bits/glue_relational_meat.hpp\n",
            "-- Installing: /usr/include/armadillo_bits/eop_core_bones.hpp\n",
            "-- Installing: /usr/include/armadillo_bits/glue_hypot_meat.hpp\n",
            "-- Installing: /usr/include/armadillo_bits/mtOp_meat.hpp\n",
            "-- Installing: /usr/include/armadillo_bits/OpCube_meat.hpp\n",
            "-- Installing: /usr/include/armadillo_bits/op_chol_bones.hpp\n",
            "-- Installing: /usr/include/armadillo_bits/newarp_DoubleShiftQR_bones.hpp\n",
            "-- Installing: /usr/include/armadillo_bits/op_reshape_meat.hpp\n",
            "-- Installing: /usr/include/armadillo_bits/op_strans_meat.hpp\n",
            "-- Installing: /usr/include/armadillo_bits/glue_polyfit_bones.hpp\n",
            "-- Installing: /usr/include/armadillo_bits/op_roots_bones.hpp\n",
            "-- Installing: /usr/include/armadillo_bits/op_median_bones.hpp\n",
            "-- Installing: /usr/include/armadillo_bits/fn_diagvec.hpp\n",
            "-- Installing: /usr/include/armadillo_bits/op_sort_meat.hpp\n",
            "-- Installing: /usr/include/armadillo_bits/op_diagmat_meat.hpp\n",
            "-- Installing: /usr/include/armadillo_bits/op_resize_meat.hpp\n",
            "-- Installing: /usr/include/armadillo_bits/subview_field_meat.hpp\n",
            "-- Installing: /usr/include/armadillo_bits/op_index_min_meat.hpp\n",
            "-- Installing: /usr/include/armadillo_bits/op_powmat_bones.hpp\n",
            "-- Installing: /usr/include/armadillo_bits/op_var_meat.hpp\n",
            "-- Installing: /usr/include/armadillo_bits/fn_shift.hpp\n",
            "-- Installing: /usr/include/armadillo_bits/traits.hpp\n",
            "-- Installing: /usr/include/armadillo_bits/spglue_merge_bones.hpp\n",
            "-- Installing: /usr/include/armadillo_bits/newarp_cx_attrib.hpp\n",
            "-- Installing: /usr/include/armadillo_bits/fn_randi.hpp\n",
            "-- Installing: /usr/include/armadillo_bits/fn_sylvester.hpp\n",
            "-- Installing: /usr/include/armadillo_bits/SpMat_iterators_meat.hpp\n",
            "-- Installing: /usr/include/armadillo_bits/glue_solve_bones.hpp\n",
            "-- Installing: /usr/include/armadillo_bits/glue_join_meat.hpp\n",
            "-- Installing: /usr/include/armadillo_bits/op_range_meat.hpp\n",
            "-- Installing: /usr/include/armadillo_bits/spop_sum_meat.hpp\n",
            "-- Installing: /usr/include/armadillo_bits/glue_trapz_bones.hpp\n",
            "-- Installing: /usr/include/armadillo_bits/op_sum_bones.hpp\n",
            "-- Installing: /usr/include/armadillo_bits/running_stat_bones.hpp\n",
            "-- Installing: /usr/include/armadillo_bits/spglue_plus_meat.hpp\n",
            "-- Installing: /usr/include/armadillo_bits/band_helper.hpp\n",
            "-- Installing: /usr/include/armadillo_bits/op_shift_bones.hpp\n",
            "-- Installing: /usr/include/armadillo_bits/operator_minus.hpp\n",
            "-- Installing: /usr/include/armadillo_bits/upgrade_val.hpp\n",
            "-- Installing: /usr/include/armadillo_bits/mtSpGlue_meat.hpp\n",
            "-- Installing: /usr/include/armadillo_bits/op_reverse_meat.hpp\n",
            "-- Installing: /usr/include/armadillo_bits/op_strans_bones.hpp\n",
            "-- Installing: /usr/include/armadillo_bits/glue_polyval_bones.hpp\n",
            "-- Installing: /usr/include/armadillo_bits/mtOp_bones.hpp\n",
            "-- Installing: /usr/include/armadillo_bits/op_var_bones.hpp\n",
            "-- Installing: /usr/include/armadillo_bits/GenSpecialiser.hpp\n",
            "-- Installing: /usr/include/armadillo_bits/eGlue_meat.hpp\n",
            "-- Installing: /usr/include/armadillo_bits/fn_orth_null.hpp\n",
            "-- Installing: /usr/include/armadillo_bits/fn_intersect.hpp\n",
            "-- Installing: /usr/include/armadillo_bits/op_htrans_bones.hpp\n",
            "-- Installing: /usr/include/armadillo_bits/span.hpp\n",
            "-- Installing: /usr/include/armadillo_bits/fn_reverse.hpp\n",
            "-- Installing: /usr/include/armadillo_bits/fn_fft2.hpp\n",
            "-- Installing: /usr/include/armadillo_bits/diagview_meat.hpp\n",
            "-- Installing: /usr/include/armadillo_bits/gmm_misc_bones.hpp\n",
            "-- Installing: /usr/include/armadillo_bits/glue_conv_bones.hpp\n",
            "-- Installing: /usr/include/armadillo_bits/typedef_elem.hpp\n",
            "-- Installing: /usr/include/armadillo_bits/subview_elem1_bones.hpp\n",
            "-- Installing: /usr/include/armadillo_bits/newarp_SparseGenMatProd_meat.hpp\n",
            "-- Installing: /usr/include/armadillo_bits/fn_kmeans.hpp\n",
            "-- Installing: /usr/include/armadillo_bits/sp_auxlib_meat.hpp\n",
            "-- Installing: /usr/include/armadillo_bits/MapMat_bones.hpp\n",
            "-- Installing: /usr/include/armadillo_bits/subview_each_bones.hpp\n",
            "-- Installing: /usr/include/armadillo_bits/def_atlas.hpp\n",
            "-- Installing: /usr/include/armadillo_bits/fn_clamp.hpp\n",
            "-- Installing: /usr/include/armadillo_bits/mtGlue_meat.hpp\n",
            "-- Installing: /usr/include/armadillo_bits/fn_diff.hpp\n",
            "-- Installing: /usr/include/armadillo_bits/memory.hpp\n",
            "-- Installing: /usr/include/armadillo_bits/op_flip_bones.hpp\n",
            "-- Installing: /usr/include/armadillo_bits/fn_repmat.hpp\n",
            "-- Installing: /usr/include/armadillo_bits/operator_times.hpp\n",
            "-- Installing: /usr/include/armadillo_bits/op_find_unique_meat.hpp\n",
            "-- Installing: /usr/include/armadillo_bits/op_pinv_bones.hpp\n",
            "-- Installing: /usr/include/armadillo_bits/mul_gemm.hpp\n",
            "-- Installing: /usr/include/armadillo_bits/arrayops_bones.hpp\n",
            "-- Installing: /usr/include/armadillo_bits/wall_clock_meat.hpp\n",
            "-- Installing: /usr/include/armadillo_bits/xtrans_mat_meat.hpp\n",
            "-- Installing: /usr/include/armadillo_bits/hdf5_misc.hpp\n",
            "-- Installing: /usr/include/armadillo_bits/fn_wishrnd.hpp\n",
            "-- Installing: /usr/include/armadillo_bits/fn_sort.hpp\n",
            "-- Installing: /usr/include/armadillo_bits/Mat_bones.hpp\n",
            "-- Installing: /usr/include/armadillo_bits/op_htrans_meat.hpp\n",
            "-- Installing: /usr/include/armadillo_bits/operator_ostream.hpp\n",
            "-- Installing: /usr/include/armadillo_bits/spop_strans_bones.hpp\n",
            "-- Installing: /usr/include/armadillo_bits/eOp_bones.hpp\n",
            "-- Installing: /usr/include/armadillo_bits/glue_quantile_meat.hpp\n",
            "-- Installing: /usr/include/armadillo_bits/SpToDOp_bones.hpp\n",
            "-- Installing: /usr/include/armadillo_bits/glue_times_bones.hpp\n",
            "-- Installing: /usr/include/armadillo_bits/fn_roots.hpp\n",
            "-- Installing: /usr/include/armadillo_bits/injector_bones.hpp\n",
            "-- Installing: /usr/include/armadillo_bits/SizeMat_meat.hpp\n",
            "-- Installing: /usr/include/armadillo_bits/spglue_schur_meat.hpp\n",
            "-- Installing: /usr/include/armadillo_bits/op_cx_scalar_bones.hpp\n",
            "-- Installing: /usr/include/armadillo_bits/fn_normcdf.hpp\n",
            "-- Installing: /usr/include/armadillo_bits/eGlueCube_meat.hpp\n",
            "-- Installing: /usr/include/armadillo_bits/eGlueCube_bones.hpp\n",
            "-- Installing: /usr/include/armadillo_bits/fn_sum.hpp\n",
            "-- Installing: /usr/include/armadillo_bits/fn_index_min.hpp\n",
            "-- Installing: /usr/lib/x86_64-linux-gnu/libarmadillo.so.10.3.0\n",
            "-- Installing: /usr/lib/x86_64-linux-gnu/libarmadillo.so.10\n",
            "-- Set runtime path of \"/usr/lib/x86_64-linux-gnu/libarmadillo.so.10.3.0\" to \"\"\n",
            "-- Installing: /usr/lib/x86_64-linux-gnu/libarmadillo.so\n",
            "-- Installing: /usr/share/Armadillo/CMake/ArmadilloLibraryDepends.cmake\n",
            "-- Installing: /usr/share/Armadillo/CMake/ArmadilloLibraryDepends-noconfig.cmake\n",
            "-- Installing: /usr/share/Armadillo/CMake/ArmadilloConfig.cmake\n",
            "-- Installing: /usr/share/Armadillo/CMake/ArmadilloConfigVersion.cmake\n",
            "-- Installing: /usr/lib/x86_64-linux-gnu/pkgconfig/armadillo.pc\n",
            "Requirement already satisfied: matplotlib in /usr/local/lib/python3.7/dist-packages (3.2.2)\n",
            "Requirement already satisfied: python-dateutil>=2.1 in /usr/local/lib/python3.7/dist-packages (from matplotlib) (2.8.1)\n",
            "Requirement already satisfied: kiwisolver>=1.0.1 in /usr/local/lib/python3.7/dist-packages (from matplotlib) (1.3.1)\n",
            "Requirement already satisfied: numpy>=1.11 in /usr/local/lib/python3.7/dist-packages (from matplotlib) (1.19.5)\n",
            "Requirement already satisfied: cycler>=0.10 in /usr/local/lib/python3.7/dist-packages (from matplotlib) (0.10.0)\n",
            "Requirement already satisfied: pyparsing!=2.0.4,!=2.1.2,!=2.1.6,>=2.0.1 in /usr/local/lib/python3.7/dist-packages (from matplotlib) (2.4.7)\n",
            "Requirement already satisfied: six>=1.5 in /usr/local/lib/python3.7/dist-packages (from python-dateutil>=2.1->matplotlib) (1.15.0)\n",
            "--2021-04-10 11:40:39--  https://raw.githubusercontent.com/lava/matplotlib-cpp/master/matplotlibcpp.h\n",
            "Resolving raw.githubusercontent.com (raw.githubusercontent.com)... 185.199.111.133, 185.199.108.133, 185.199.109.133, ...\n",
            "Connecting to raw.githubusercontent.com (raw.githubusercontent.com)|185.199.111.133|:443... connected.\n",
            "HTTP request sent, awaiting response... 200 OK\n",
            "Length: 99741 (97K) [text/plain]\n",
            "Saving to: ‘matplotlibcpp.h’\n",
            "\n",
            "matplotlibcpp.h     100%[===================>]  97.40K  --.-KB/s    in 0.009s  \n",
            "\n",
            "2021-04-10 11:40:39 (10.8 MB/s) - ‘matplotlibcpp.h’ saved [99741/99741]\n",
            "\n",
            "Reading package lists... Done\n",
            "Building dependency tree       \n",
            "Reading state information... Done\n",
            "The following NEW packages will be installed:\n",
            "  libjsoncpp-dev\n",
            "0 upgraded, 1 newly installed, 0 to remove and 31 not upgraded.\n",
            "Need to get 85.3 kB of archives.\n",
            "After this operation, 474 kB of additional disk space will be used.\n",
            "Get:1 http://archive.ubuntu.com/ubuntu bionic/main amd64 libjsoncpp-dev amd64 1.7.4-3 [85.3 kB]\n",
            "Fetched 85.3 kB in 1s (115 kB/s)\n",
            "debconf: unable to initialize frontend: Dialog\n",
            "debconf: (No usable dialog-like program is installed, so the dialog based frontend cannot be used. at /usr/share/perl5/Debconf/FrontEnd/Dialog.pm line 76, <> line 1.)\n",
            "debconf: falling back to frontend: Readline\n",
            "debconf: unable to initialize frontend: Readline\n",
            "debconf: (This frontend requires a controlling tty.)\n",
            "debconf: falling back to frontend: Teletype\n",
            "dpkg-preconfigure: unable to re-open stdin: \n",
            "Selecting previously unselected package libjsoncpp-dev:amd64.\n",
            "(Reading database ... 160983 files and directories currently installed.)\n",
            "Preparing to unpack .../libjsoncpp-dev_1.7.4-3_amd64.deb ...\n",
            "Unpacking libjsoncpp-dev:amd64 (1.7.4-3) ...\n",
            "Setting up libjsoncpp-dev:amd64 (1.7.4-3) ...\n",
            "/content/PHD-object-traking/build\n"
          ],
          "name": "stdout"
        }
      ]
    },
    {
      "cell_type": "code",
      "metadata": {
        "id": "E45V-qBTK81J",
        "colab": {
          "base_uri": "https://localhost:8080/"
        },
        "outputId": "ccbd7cca-141a-4c93-f887-606d416aae6f"
      },
      "source": [
        "!cmake ..\n",
        "!make phd_json_dump"
      ],
      "execution_count": 6,
      "outputs": [
        {
          "output_type": "stream",
          "text": [
            "-- The C compiler identification is GNU 7.5.0\n",
            "-- The CXX compiler identification is GNU 7.5.0\n",
            "-- Check for working C compiler: /usr/bin/cc\n",
            "-- Check for working C compiler: /usr/bin/cc -- works\n",
            "-- Detecting C compiler ABI info\n",
            "-- Detecting C compiler ABI info - done\n",
            "-- Detecting C compile features\n",
            "-- Detecting C compile features - done\n",
            "-- Check for working CXX compiler: /usr/bin/c++\n",
            "-- Check for working CXX compiler: /usr/bin/c++ -- works\n",
            "-- Detecting CXX compiler ABI info\n",
            "-- Detecting CXX compiler ABI info - done\n",
            "-- Detecting CXX compile features\n",
            "-- Detecting CXX compile features - done\n",
            "-- Found PythonLibs: /usr/lib/x86_64-linux-gnu/libpython3.7m.so (found suitable version \"3.7.10\", minimum required is \"3\") \n",
            "-- Looking for sgemm_\n",
            "-- Looking for sgemm_ - found\n",
            "-- Looking for pthread.h\n",
            "-- Looking for pthread.h - found\n",
            "-- Looking for pthread_create\n",
            "-- Looking for pthread_create - not found\n",
            "-- Looking for pthread_create in pthreads\n",
            "-- Looking for pthread_create in pthreads - not found\n",
            "-- Looking for pthread_create in pthread\n",
            "-- Looking for pthread_create in pthread - found\n",
            "-- Found Threads: TRUE  \n",
            "-- Found BLAS: /usr/lib/x86_64-linux-gnu/libopenblas.so  \n",
            "-- Looking for cheev_\n",
            "-- Looking for cheev_ - found\n",
            "-- A library with LAPACK API found.\n",
            "-- Found Armadillo: /usr/lib/x86_64-linux-gnu/libarmadillo.so (found version \"10.3.0\") \n",
            "-- Found PkgConfig: /usr/bin/pkg-config (found version \"0.29.1\") \n",
            "-- Checking for module 'jsoncpp'\n",
            "--   Found jsoncpp, version 1.7.4\n",
            "-- Configuring done\n",
            "-- Generating done\n",
            "-- Build files have been written to: /content/PHD-object-traking/build\n",
            "\u001b[35m\u001b[1mScanning dependencies of target phd_json_dump\u001b[0m\n",
            "[ 33%] \u001b[32mBuilding CXX object CMakeFiles/phd_json_dump.dir/phd_json_dump.cpp.o\u001b[0m\n",
            "[ 66%] \u001b[32mBuilding CXX object CMakeFiles/phd_json_dump.dir/filter/phd_filter_base.cpp.o\u001b[0m\n",
            "[100%] \u001b[32m\u001b[1mLinking CXX executable phd_json_dump\u001b[0m\n",
            "[100%] Built target phd_json_dump\n"
          ],
          "name": "stdout"
        }
      ]
    },
    {
      "cell_type": "code",
      "metadata": {
        "colab": {
          "base_uri": "https://localhost:8080/"
        },
        "id": "Biyqo2I89KzE",
        "outputId": "311ca82a-220d-4cec-b19d-37e922042d98"
      },
      "source": [
        "!./phd_json_dump\n",
        "# enter this: ../data/first_20_frame_optical_res.json"
      ],
      "execution_count": 8,
      "outputs": [
        {
          "output_type": "stream",
          "text": [
            "enter the relative data file directory: ../data/first_20_frame_optical_res.json\n",
            "Done!\n"
          ],
          "name": "stdout"
        }
      ]
    },
    {
      "cell_type": "code",
      "metadata": {
        "id": "TYPu6hts4pb7"
      },
      "source": [
        "#TODO:\n",
        "#call the visualization here:\n",
        "\n",
        "# motion model\n",
        "# plot in python\n",
        "# look into weights\n",
        "# "
      ],
      "execution_count": null,
      "outputs": []
    },
    {
      "cell_type": "code",
      "metadata": {
        "id": "S_PAUWpvx4cP"
      },
      "source": [
        "import matplotlib.pyplot as plt\n",
        "import matplotlib.patches as patches\n",
        "import json\n",
        "with open(\"/content/PHD-object-traking/build/tracks_dump.json\", encoding='UTF-8', errors='ignore') as inputFile:\n",
        "    data = json.load(inputFile)"
      ],
      "execution_count": 13,
      "outputs": []
    },
    {
      "cell_type": "code",
      "metadata": {
        "colab": {
          "base_uri": "https://localhost:8080/",
          "height": 1000
        },
        "id": "AxMCWM2F4IcY",
        "outputId": "5f9423ff-a04c-40ab-f6f0-08831a7b358e"
      },
      "source": [
        "for i in range(len(data)):             # number of frames\n",
        "    n = len(data[i]['bb'])             # number of particles\n",
        "    bbs = data[i]['bb']\n",
        "    weights = data[i]['weights']\n",
        "    print(\"frame \", i)\n",
        "    print(weights)\n",
        "    #flows = data[i]['flows']\n",
        "    plt.clf();\n",
        "    plt.xlim(0, 540);\n",
        "    plt.ylim(0, 960);\n",
        "    \n",
        "    ax = plt.axes()\n",
        "    for bb in bbs:\n",
        "        rect = patches.Rectangle((bb[0] - bb[2] / 2, bb[1] - bb[3] / 2), bb[2], bb[3], linewidth=1, edgecolor='r', facecolor='none')\n",
        "        ax.add_patch(rect)\n",
        "    plt.show()\n",
        "    plt.pause(0.000001);\n"
      ],
      "execution_count": 22,
      "outputs": [
        {
          "output_type": "stream",
          "text": [
            "frame  0\n",
            "[0.052772847673590736, 0.040670213237941635, 0.04067021323794164, 0.06642961729820528, 0.040533751289225275, 0.02720069929662175, 0.02720069929662175, 0.0662536455397795, 0.052851503677868665, 0.02538831252721989, 0.04979147940558236, 0.02492385741621733, 0.024422771952787636, 0.036422522238279104, 0.03639859222521352, 0.036556250649281946, 0.03639322599191523, 0.036146140319428, 0.03618823324228269, 0.03596086740847415, 0.046652656461374155, 0.03431013008127769, 0.023007216774104392, 0.02298412405064217, 0.030175440470062216, 0.020653285225148692]\n"
          ],
          "name": "stdout"
        },
        {
          "output_type": "stream",
          "text": [
            "/usr/local/lib/python3.7/dist-packages/ipykernel_launcher.py:12: MatplotlibDeprecationWarning: Adding an axes using the same arguments as a previous axes currently reuses the earlier instance.  In a future version, a new instance will always be created and returned.  Meanwhile, this warning can be suppressed, and the future behavior ensured, by passing a unique label to each axes instance.\n",
            "  if sys.path[0] == '':\n"
          ],
          "name": "stderr"
        },
        {
          "output_type": "display_data",
          "data": {
            "image/png": "[encoded data removed]",
            "text/plain": [
              "<Figure size 432x288 with 1 Axes>"
            ]
          },
          "metadata": {
            "tags": [],
            "needs_background": "light"
          }
        },
        {
          "output_type": "stream",
          "text": [
            "frame  1\n",
            "[0.029584556568975476, 0.02933596770783437, 0.027850032938325508, 0.024478530339264573, 0.024399251654217934]\n"
          ],
          "name": "stdout"
        },
        {
          "output_type": "display_data",
          "data": {
            "image/png": "[encoded data removed]",
            "text/plain": [
              "<Figure size 432x288 with 1 Axes>"
            ]
          },
          "metadata": {
            "tags": [],
            "needs_background": "light"
          }
        },
        {
          "output_type": "stream",
          "text": [
            "frame  2\n",
            "[0.03808907753647273, 0.03180224556233996, 0.02889630392539752, 0.026494606414608646, 0.02519708726137349, 0.024125941800869802, 0.023354141573727095, 0.022278941633134874]\n"
          ],
          "name": "stdout"
        },
        {
          "output_type": "display_data",
          "data": {
            "image/png": "[encoded data removed]",
            "text/plain": [
              "<Figure size 432x288 with 1 Axes>"
            ]
          },
          "metadata": {
            "tags": [],
            "needs_background": "light"
          }
        },
        {
          "output_type": "stream",
          "text": [
            "frame  3\n",
            "[0.042073459187882134, 0.036941120306553714, 0.03399245943481593, 0.027454144387196035, 0.02615132705742718, 0.024625486209493706, 0.023502350151071525, 0.02098398053241501, 0.02041893655813096, 0.02002847364470957]\n"
          ],
          "name": "stdout"
        },
        {
          "output_type": "display_data",
          "data": {
            "image/png": "[encoded data removed]",
            "text/plain": [
              "<Figure size 432x288 with 1 Axes>"
            ]
          },
          "metadata": {
            "tags": [],
            "needs_background": "light"
          }
        },
        {
          "output_type": "stream",
          "text": [
            "frame  4\n",
            "[0.03741996462929469, 0.036814115355239, 0.03323992642551564, 0.02761809071660002, 0.02530287336807594, 0.023479923324677514, 0.022350270915691063, 0.020377740200058603]\n"
          ],
          "name": "stdout"
        },
        {
          "output_type": "display_data",
          "data": {
            "image/png": "[encoded data removed]",
            "text/plain": [
              "<Figure size 432x288 with 1 Axes>"
            ]
          },
          "metadata": {
            "tags": [],
            "needs_background": "light"
          }
        },
        {
          "output_type": "stream",
          "text": [
            "frame  5\n",
            "[0.037281597254000834, 0.03636158184097679, 0.029436508856976646, 0.027068074339579345, 0.026201607211070937, 0.023815035624724437, 0.02368946370345773, 0.023656592845507748, 0.022911391873864283, 0.020058860779471926]\n"
          ],
          "name": "stdout"
        },
        {
          "output_type": "display_data",
          "data": {
            "image/png": "[encoded data removed]",
            "text/plain": [
              "<Figure size 432x288 with 1 Axes>"
            ]
          },
          "metadata": {
            "tags": [],
            "needs_background": "light"
          }
        },
        {
          "output_type": "stream",
          "text": [
            "frame  6\n",
            "[0.04073177511196313, 0.03458007941284184, 0.03353081157353125, 0.030279136863377857, 0.027201071081067032, 0.026674434542492794, 0.022324959498337082, 0.02132652264597608]\n"
          ],
          "name": "stdout"
        },
        {
          "output_type": "display_data",
          "data": {
            "image/png": "[encoded data removed]",
            "text/plain": [
              "<Figure size 432x288 with 1 Axes>"
            ]
          },
          "metadata": {
            "tags": [],
            "needs_background": "light"
          }
        },
        {
          "output_type": "stream",
          "text": [
            "frame  7\n",
            "[0.03410021654842391, 0.033703190347419046, 0.030976833283939426, 0.025795397182839977, 0.025216168502374542, 0.02234460144313034, 0.02139235455687625]\n"
          ],
          "name": "stdout"
        },
        {
          "output_type": "display_data",
          "data": {
            "image/png": "[encoded data removed]",
            "text/plain": [
              "<Figure size 432x288 with 1 Axes>"
            ]
          },
          "metadata": {
            "tags": [],
            "needs_background": "light"
          }
        },
        {
          "output_type": "stream",
          "text": [
            "frame  8\n",
            "[0.03289444129615311, 0.032284065654066184, 0.029435526799612782, 0.026020738962390436, 0.025306725789936552, 0.02398519939417681, 0.021723391039981856]\n"
          ],
          "name": "stdout"
        },
        {
          "output_type": "display_data",
          "data": {
            "image/png": "[encoded data removed]",
            "text/plain": [
              "<Figure size 432x288 with 1 Axes>"
            ]
          },
          "metadata": {
            "tags": [],
            "needs_background": "light"
          }
        },
        {
          "output_type": "stream",
          "text": [
            "frame  9\n",
            "[0.0293750091437735, 0.027358174232418875, 0.025795328141784996, 0.025744434754001563, 0.02125148977417333, 0.020476863140991883, 0.02047414538120965]\n"
          ],
          "name": "stdout"
        },
        {
          "output_type": "display_data",
          "data": {
            "image/png": "[encoded data removed]",
            "text/plain": [
              "<Figure size 432x288 with 1 Axes>"
            ]
          },
          "metadata": {
            "tags": [],
            "needs_background": "light"
          }
        },
        {
          "output_type": "stream",
          "text": [
            "frame  10\n",
            "[0.033845320588828255, 0.029642063955938217, 0.02607809090606781, 0.02454048655916001, 0.024490564928102792, 0.023130872219247915, 0.022329022111751442, 0.022204326657658056, 0.021148108356490166]\n"
          ],
          "name": "stdout"
        },
        {
          "output_type": "display_data",
          "data": {
            "image/png": "[encoded data removed]",
            "text/plain": [
              "<Figure size 432x288 with 1 Axes>"
            ]
          },
          "metadata": {
            "tags": [],
            "needs_background": "light"
          }
        },
        {
          "output_type": "stream",
          "text": [
            "frame  11\n",
            "[0.0291677232555216, 0.024013792670281364, 0.02316276208483291, 0.021686059488291547, 0.021100968626081726]\n"
          ],
          "name": "stdout"
        },
        {
          "output_type": "display_data",
          "data": {
            "image/png": "[encoded data removed]",
            "text/plain": [
              "<Figure size 432x288 with 1 Axes>"
            ]
          },
          "metadata": {
            "tags": [],
            "needs_background": "light"
          }
        },
        {
          "output_type": "stream",
          "text": [
            "frame  12\n",
            "[0.03251327099721395, 0.03173255476436987, 0.02691012496487915, 0.02565724947213944, 0.02391116896310586, 0.021277091461332203, 0.021116204644102344, 0.02074472151257999, 0.020653191579418397]\n"
          ],
          "name": "stdout"
        },
        {
          "output_type": "display_data",
          "data": {
            "image/png": "[encoded data removed]",
            "text/plain": [
              "<Figure size 432x288 with 1 Axes>"
            ]
          },
          "metadata": {
            "tags": [],
            "needs_background": "light"
          }
        },
        {
          "output_type": "stream",
          "text": [
            "frame  13\n",
            "[0.032543951576668735, 0.030793682791370795, 0.026902810311761255, 0.024643262849926236, 0.02255256141632679, 0.020582453433643455, 0.020491409402336434, 0.020241510089325024, 0.020081891896033]\n"
          ],
          "name": "stdout"
        },
        {
          "output_type": "display_data",
          "data": {
            "image/png": "[encoded data removed]",
            "text/plain": [
              "<Figure size 432x288 with 1 Axes>"
            ]
          },
          "metadata": {
            "tags": [],
            "needs_background": "light"
          }
        },
        {
          "output_type": "stream",
          "text": [
            "frame  14\n",
            "[0.03275550981671097, 0.02831119893236974, 0.02659283057062161, 0.021309163691928867, 0.021270482011824857, 0.020294782900297303, 0.02022896587692892]\n"
          ],
          "name": "stdout"
        },
        {
          "output_type": "display_data",
          "data": {
            "image/png": "[encoded data removed]",
            "text/plain": [
              "<Figure size 432x288 with 1 Axes>"
            ]
          },
          "metadata": {
            "tags": [],
            "needs_background": "light"
          }
        },
        {
          "output_type": "stream",
          "text": [
            "frame  15\n",
            "[0.03688126444651148, 0.036264038441132004, 0.033618158326427026, 0.033419694004199814, 0.029238068332136703, 0.026360621391784647, 0.025058803772742423, 0.022590832724756774, 0.02199381103621529, 0.021736760748218675, 0.021293720986867583]\n"
          ],
          "name": "stdout"
        },
        {
          "output_type": "display_data",
          "data": {
            "image/png": "[encoded data removed]",
            "text/plain": [
              "<Figure size 432x288 with 1 Axes>"
            ]
          },
          "metadata": {
            "tags": [],
            "needs_background": "light"
          }
        },
        {
          "output_type": "stream",
          "text": [
            "frame  16\n",
            "[0.03379964035994612, 0.03245704241288664, 0.02657594205970049, 0.02625505919286144, 0.025591336550880875, 0.02260348604969492, 0.02236889740320079, 0.020574644497237393]\n"
          ],
          "name": "stdout"
        },
        {
          "output_type": "display_data",
          "data": {
            "image/png": "[encoded data removed]",
            "text/plain": [
              "<Figure size 432x288 with 1 Axes>"
            ]
          },
          "metadata": {
            "tags": [],
            "needs_background": "light"
          }
        },
        {
          "output_type": "stream",
          "text": [
            "frame  17\n",
            "[0.03121100336222941, 0.031183714500478542, 0.030188150312354767, 0.02696140282773305, 0.0226488032618825, 0.022029082766889623, 0.02198134006277131]\n"
          ],
          "name": "stdout"
        },
        {
          "output_type": "display_data",
          "data": {
            "image/png": "[encoded data removed]",
            "text/plain": [
              "<Figure size 432x288 with 1 Axes>"
            ]
          },
          "metadata": {
            "tags": [],
            "needs_background": "light"
          }
        }
      ]
    },
    {
      "cell_type": "code",
      "metadata": {
        "id": "r7NHfGF4lHKT"
      },
      "source": [
        "import numpy as np\n",
        "from sklearn.metrics import pairwise_distances\n",
        "\n",
        "output_0 = np.concatenate([np.array(data[0]['bb']), np.array(data[0]['flows'])], axis=1)\n",
        "\n",
        "# arbitary idx for frame 0\n",
        "id_0 = np.arange(output_0.shape[0])\n",
        "data[0]['ids'] = id_0.tolist()\n",
        "\n",
        "\n",
        "# loop over rest of frames\n",
        "for i_frame in range(1, len(data)):\n",
        "    output_1 = np.concatenate([np.array(data[i_frame]['bb']), np.array(data[i_frame]['flows'])], axis=1)\n",
        "\n",
        "    # compute pairwise distance between targets in previous and current iteration\n",
        "    dist = pairwise_distances(output_0, output_1) \n",
        "\n",
        "    id_1 = -1 * np.ones(output_1.shape[0])\n",
        "\n",
        "    for i in range(min(output_0.shape[0], output_1.shape[0])): \n",
        "        # find smallest value in dist\n",
        "        min_idx = np.argmin(dist)\n",
        "\n",
        "        # calcualte row and col of that value\n",
        "        min_col_idx = min_idx % output_1.shape[0]\n",
        "        min_row_idx = min_idx // output_1.shape[0]\n",
        "\n",
        "        # keep the id for next iter\n",
        "        id_1[min_col_idx] = id_0[min_row_idx]\n",
        "\n",
        "        # fill row and col with infinity so same previous target would not be re-used, \n",
        "        # and would not try to find id for same current target\n",
        "        dist[:, min_col_idx].fill(np.inf)\n",
        "        dist[min_row_idx, :].fill(np.inf)\n",
        "\n",
        "    id_1 = id_1.astype(int)\n",
        "\n",
        "    # more targets in current than last iter, assign new ids \n",
        "    if (output_0.shape[0] < output_1.shape[0]):\n",
        "        # which ones in id_1 need to be filled with new id\n",
        "        idx_to_fix = np.where(id_1 == -1)[0]\n",
        "\n",
        "        new_id = 0\n",
        "\n",
        "        for i in range(output_1.shape[0] - output_0.shape[0]):\n",
        "            while new_id in id_1:\n",
        "                new_id += 1\n",
        "\n",
        "            id_1[idx_to_fix[i]] = new_id\n",
        "        \n",
        "\n",
        "    data[i_frame]['ids'] = id_1.tolist()\n",
        "\n",
        "    output_0 = output_1\n",
        "    id_0 = id_1\n",
        "\n",
        "\n",
        "with open('/content/PHD-object-traking/build/run_phd_output_extract_with_ids.json', 'w') as outfile:\n",
        "    json.dump(data, outfile, indent=4)"
      ],
      "execution_count": 86,
      "outputs": []
    }
  ]
}