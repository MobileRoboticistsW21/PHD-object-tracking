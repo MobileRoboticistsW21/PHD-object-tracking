{
  "nbformat": 4,
  "nbformat_minor": 0,
  "metadata": {
    "colab": {
      "name": "base_phd.ipynb",
      "provenance": [],
      "collapsed_sections": []
    },
    "kernelspec": {
      "name": "python385jvsc74a57bd031f2aee4e71d21fbe5cf8b01ff0e069b9275f58929596ceb00d14d90e3e16cd6",
      "display_name": "Python 3.8.5 64-bit"
    },
    "language_info": {
      "name": "python",
      "version": "3.8.5-final"
    },
    "metadata": {
      "interpreter": {
        "hash": "31f2aee4e71d21fbe5cf8b01ff0e069b9275f58929596ceb00d14d90e3e16cd6"
      }
    }
  },
  "cells": [
    {
      "source": [
        "# README!\n",
        "\n",
        "This notebook allows one to run the PHD filter code and visualize as well as process data for the MOT evaluation script to read.\n",
        "\n",
        "To run Visualization you should at least have the data you care to run the filter on, properly formatted, and placed in the data folder.\n",
        "\n",
        "Running the filter should produce data and place it in data/output. That output along with the associated images is needed to get the most out of this notebook."
      ],
      "cell_type": "markdown",
      "metadata": {}
    },
    {
      "cell_type": "code",
      "execution_count": 1,
      "metadata": {},
      "outputs": [],
      "source": [
        "%load_ext autoreload\n",
        "%autoreload 2"
      ]
    },
    {
      "cell_type": "code",
      "execution_count": 2,
      "metadata": {},
      "outputs": [
        {
          "output_type": "stream",
          "name": "stdout",
          "text": [
            "not using colab.\n"
          ]
        }
      ],
      "source": [
        "\n",
        "try: \n",
        "    from google.colab.patches import cv2_imshow\n",
        "    from google.colab import drive\n",
        "    drive.mount('/content/drive')\n",
        "except ImportError: \n",
        "    print(\"not using colab.\")\n"
      ]
    },
    {
      "source": [
        "# Setting up PHD Filter\n",
        "This portion pulls and builds the filter code. If you have the filter code pulled, make sure to navigate \"cd\" into that directory. Uncomment out code below if needed"
      ],
      "cell_type": "markdown",
      "metadata": {}
    },
    {
      "cell_type": "code",
      "metadata": {
        "colab": {
          "base_uri": "https://localhost:8080/"
        },
        "id": "jI8_6t3wKy_g",
        "outputId": "ce002fcd-8670-489c-9314-af4c07911e0c"
      },
      "source": [
        "!git clone https://github.com/MobileRoboticistsW21/PHD-object-traking.git # don't need if cloned from terminal or etc"
      ],
      "execution_count": 3,
      "outputs": []
    },
    {
      "cell_type": "code",
      "metadata": {
        "colab": {
          "base_uri": "https://localhost:8080/"
        },
        "id": "fE5Wzi0tzPwk",
        "outputId": "f005787f-b0c4-4b1e-b265-f7aa171c96ce"
      },
      "source": [
        "%cd PHD-object-traking/"
      ],
      "execution_count": 4,
      "outputs": []
    },
    {
      "cell_type": "code",
      "metadata": {
        "colab": {
          "base_uri": "https://localhost:8080/"
        },
        "id": "3VH1NS78D8PV",
        "outputId": "2a3fe4b5-78a1-498f-a6e3-eb8addc34005"
      },
      "source": [
        "!git checkout main   # can change this to main if branch is merged \n",
        "!git pull"
      ],
      "execution_count": 5,
      "outputs": []
    },
    {
      "cell_type": "code",
      "metadata": {
        "id": "nUY97L2n4KTZ",
        "colab": {
          "base_uri": "https://localhost:8080/"
        },
        "outputId": "f7da5d6a-6d4b-4e59-f4d2-15f0edc2cac3"
      },
      "source": [
        "%cd /content/PHD-object-traking/\n",
        "!bash setup.sh"
      ],
      "execution_count": 6,
      "outputs": [
        {
          "output_type": "stream",
          "name": "stdout",
          "text": [
            "[sudo] password for akanu: \n"
          ]
        }
      ]
    },
    {
      "source": [
        "### Notice!\n",
        "The cell below runs the filter which will prompt you for the location of the data file you would like to process. Sample data is provided. Try ../data/first_20_frame_optical_res.json"
      ],
      "cell_type": "markdown",
      "metadata": {}
    },
    {
      "cell_type": "code",
      "metadata": {
        "id": "E45V-qBTK81J",
        "colab": {
          "base_uri": "https://localhost:8080/"
        },
        "outputId": "ccbd7cca-141a-4c93-f887-606d416aae6f"
      },
      "source": [
        "!mkdir build\n",
        "%cd build\n",
        "!cmake ..\n",
        "!make phd_json_dump\n",
        "!./phd_json_dump\n",
        "%cd ../"
      ],
      "execution_count": 6,
      "outputs": [
        {
          "output_type": "stream",
          "name": "stdout",
          "text": [
            "/home/akanu/git/PHD-object-traking/build\n",
            "-- The C compiler identification is GNU 9.3.0\n",
            "-- The CXX compiler identification is GNU 9.3.0\n",
            "-- Check for working C compiler: /usr/bin/cc\n",
            "-- Check for working C compiler: /usr/bin/cc -- works\n",
            "-- Detecting C compiler ABI info\n",
            "-- Detecting C compiler ABI info - done\n",
            "-- Detecting C compile features\n",
            "-- Detecting C compile features - done\n",
            "-- Check for working CXX compiler: /usr/bin/c++\n",
            "-- Check for working CXX compiler: /usr/bin/c++ -- works\n",
            "-- Detecting CXX compiler ABI info\n",
            "-- Detecting CXX compiler ABI info - done\n",
            "-- Detecting CXX compile features\n",
            "-- Detecting CXX compile features - done\n",
            "-- Found PythonLibs: /usr/lib/x86_64-linux-gnu/libpython3.8.so (found suitable version \"3.8.5\", minimum required is \"3\") \n",
            "-- Looking for sgemm_\n",
            "-- Looking for sgemm_ - not found\n",
            "-- Looking for pthread.h\n",
            "-- Looking for pthread.h - found\n",
            "-- Performing Test CMAKE_HAVE_LIBC_PTHREAD\n",
            "-- Performing Test CMAKE_HAVE_LIBC_PTHREAD - Failed\n",
            "-- Looking for pthread_create in pthreads\n",
            "-- Looking for pthread_create in pthreads - not found\n",
            "-- Looking for pthread_create in pthread\n",
            "-- Looking for pthread_create in pthread - found\n",
            "-- Found Threads: TRUE  \n",
            "-- Looking for sgemm_\n",
            "-- Looking for sgemm_ - found\n",
            "-- Found BLAS: /usr/lib/x86_64-linux-gnu/libopenblas.so  \n",
            "-- Looking for cheev_\n",
            "-- Looking for cheev_ - found\n",
            "-- A library with LAPACK API found.\n",
            "-- Found Armadillo: /usr/lib/x86_64-linux-gnu/libarmadillo.so (found version \"10.3.0\") \n",
            "-- Found PkgConfig: /usr/bin/pkg-config (found version \"0.29.1\") \n",
            "-- Checking for module 'jsoncpp'\n",
            "--   Found jsoncpp, version 1.7.4\n",
            "-- Configuring done\n",
            "-- Generating done\n",
            "-- Build files have been written to: /home/akanu/git/PHD-object-traking/build\n",
            "\u001b[35m\u001b[1mScanning dependencies of target phd_json_dump\u001b[0m\n",
            "[ 33%] \u001b[32mBuilding CXX object CMakeFiles/phd_json_dump.dir/phd_json_dump.cpp.o\u001b[0m\n",
            "[ 66%] \u001b[32mBuilding CXX object CMakeFiles/phd_json_dump.dir/filter/phd_filter_base.cpp.o\u001b[0m\n",
            "[100%] \u001b[32m\u001b[1mLinking CXX executable phd_json_dump\u001b[0m\n",
            "[100%] Built target phd_json_dump\n"
          ]
        }
      ]
    },
    {
      "source": [
        "# Visualization and Testing\n",
        "\n",
        "If current directory is the that of the filter repository, all that needs to be set is the VIDEO_NAME and image_dir."
      ],
      "cell_type": "markdown",
      "metadata": {}
    },
    {
      "cell_type": "code",
      "metadata": {
        "id": "S_PAUWpvx4cP"
      },
      "source": [
        "import matplotlib.pyplot as plt\n",
        "import matplotlib.patches as patches\n",
        "import json\n",
        "import cv2\n",
        "import numpy as np\n",
        "import os \n",
        "import json"
      ],
      "execution_count": 6,
      "outputs": []
    },
    {
      "source": [
        "## Define Helper Functions"
      ],
      "cell_type": "markdown",
      "metadata": {}
    },
    {
      "cell_type": "code",
      "execution_count": 7,
      "metadata": {},
      "outputs": [],
      "source": [
        "def load_data(detection_data_dir,filtered_data_dir,images_dir ):\n",
        "    \"\"\"\n",
        "    detection_data_dir: JSON file generated from MASK RCNN\n",
        "    filtered_data_dir: JSON file generated from PHD filter\n",
        "    imaged_dir: should point to images in MOT-16 dataset (img)\n",
        "    \"\"\"\n",
        "    try:\n",
        "        with open(detection_data_dir, encoding='UTF-8', errors='ignore') as inputFile:\n",
        "            data_input = json.load(inputFile)\n",
        "    except: print(\"Cannot find sensor data!\")\n",
        "\n",
        "    try:\n",
        "        with open(filtered_data_dir, encoding='UTF-8', errors='ignore') as inputFile:\n",
        "            data_out = json.load(inputFile)\n",
        "    except: print(\"Cannot find filtered data!\")\n",
        "\n",
        "    if images_dir:\n",
        "        try:\n",
        "            images = os.listdir(images_dir)\n",
        "            images.sort()\n",
        "            assert(len(images) > 0)\n",
        "        except:\n",
        "            print(\"No images were found!\")\n",
        "    return data_input, data_out, images"
      ]
    },
    {
      "cell_type": "code",
      "metadata": {
        "colab": {
          "base_uri": "https://localhost:8080/",
          "height": 1000
        },
        "id": "AxMCWM2F4IcY",
        "outputId": "5f9423ff-a04c-40ab-f6f0-08831a7b358e"
      },
      "source": [
        "from python_utils.box_vis_utils import xywh_to_corners\n",
        "    \n",
        "def simple_filter_data_display(num_frames=1):\n",
        "    for i in range(min(num_frames, len(data_out))):\n",
        "        bbs = data_out[i]['bb']\n",
        "        plt.clf(); plt.xlim(0, 1920); plt.ylim(0, 1080)\n",
        "        ax = plt.axes()\n",
        "        for bb in bbs:\n",
        "            c = xywh_to_corners([bb])[0]\n",
        "            rect = patches.Rectangle((c[0], c[1]), c[2], c[3], linewidth=1, edgecolor='r', facecolor='none')\n",
        "            ax.add_patch(rect)\n",
        "        # plt.show()\n",
        "        plt.pause(0.25)\n"
      ],
      "execution_count": 8,
      "outputs": []
    },
    {
      "cell_type": "code",
      "execution_count": 9,
      "metadata": {
        "tags": []
      },
      "outputs": [],
      "source": [
        "# Miracle + Mingshuo's code to visualize Genertated & Mask RCNN Boxes with images.\n",
        "from python_utils.box_vis_utils import xywh_to_corners\n",
        "\n",
        "def overlay_boxes_on_images(num_frames = None, mode=\"save\", path=None):\n",
        "  '''\n",
        "  mode can be \"save\" or \"show\"\n",
        "  num_frames can be set to None To include all frames\n",
        "  '''\n",
        "  assert((mode == \"save\" and path != None) or mode == \"show\")\n",
        "  for idx, (image_name,in_data, gen_data) in enumerate(zip(images[0:-2], data_input, data_out)):\n",
        "    image = cv2.imread(os.path.join(images_dir, image_name))\n",
        "    data_tlbr_in = xywh_to_corners(in_data['bb'])\n",
        "    data_tlbr_gen = xywh_to_corners(gen_data['bb'])\n",
        "    for bb in data_tlbr_in:\n",
        "      alpha = 0.3\n",
        "      overlay = image.copy()\n",
        "      cv2.rectangle(overlay, (bb[0],bb[1]), (bb[2], bb[3]),(255,0,0), -1)\n",
        "      cv2.addWeighted(overlay, alpha, image, 1 - alpha,0, image)\n",
        "    for bb in data_tlbr_gen:\n",
        "      cv2.rectangle(image, (bb[0],bb[1]), (bb[2], bb[3]),(0,255,0), 5)\n",
        "\n",
        "\n",
        "    if mode == \"show\":\n",
        "      # cv2.imshow(image_name, image)\n",
        "      # cv2.waitKey(0) \n",
        "      # cv2.destroyAllWindows()\n",
        "      plt.clf()\n",
        "      plt.imshow(image)\n",
        "      plt.pause(0.25)\n",
        "    if mode == \"save\":\n",
        "      print(\"\\rSaving Image #\",image_name, end='')\n",
        "      cv2.imwrite((path + \"/\" + VIDEO_NAME + '_' + image_name), image)\n",
        "\n",
        "    if num_frames and num_frames < idx: break "
      ]
    },
    {
      "cell_type": "code",
      "execution_count": 10,
      "metadata": {
        "tags": []
      },
      "outputs": [],
      "source": [
        "# Combine image frames into a video with original resolution\n",
        "\n",
        "def video_from_images(path):\n",
        "  image_file_names = os.listdir(path)\n",
        "  image_file_names = [x for x in image_file_names if x.startswith(VIDEO_NAME)]\n",
        "  image_file_names.sort()\n",
        "  assert(len(image_file_names) > 0)\n",
        "\n",
        "  img = cv2.imread(os.path.join(path, image_file_names[0]))\n",
        "  height,width,layers = img.shape\n",
        "\n",
        "  fourcc = fourcc = cv2.VideoWriter_fourcc('m', 'p', '4', 'v')\n",
        "  fps = 25\n",
        "\n",
        "  video=cv2.VideoWriter(path + \"/\" + VIDEO_NAME+'_phd_filter_viz_video_short.mp4', \\\n",
        "                        fourcc, fps,(width,height))\n",
        "\n",
        "  for img_name in image_file_names:\n",
        "    img = cv2.imread(os.path.join(path, img_name))\n",
        "    print(\"\\rConstructing Video. Adding img: \", img_name, end='')\n",
        "    video.write(img)\n",
        "  cv2.destroyAllWindows()\n",
        "  video.release()"
      ]
    },
    {
      "source": [
        "## Set Data Directories & Visualize\n",
        "\n",
        "To test and develop the two cells below can be re-run after data files are updated."
      ],
      "cell_type": "markdown",
      "metadata": {}
    },
    {
      "cell_type": "code",
      "execution_count": 11,
      "metadata": {},
      "outputs": [],
      "source": [
        "VIDEO_NAME = \"MOT16-09\"\n",
        "images_dir = os.path.abspath(\"../\" + VIDEO_NAME + \"_images\")\n",
        "# images_dir = None # \"/content/drive/My Drive/Mask_RCNN_stuff/\" + VIDEO_NAME\n",
        "filtered_data_dir = os.path.abspath(\"data/output/filtered_\"+VIDEO_NAME+\"_optical_flow_res.json\")\n",
        "detection_data_dir = os.path.abspath(\"data/\" + VIDEO_NAME + \"_optical_flow_res.json\")\n",
        "ground_truth_dir = \"\"\n",
        "\n",
        "!mkdir data/output/temp_images_folder\n",
        "output_img_dir = os.path.abspath(\"data/output/temp_images_folder\")\n"
      ]
    },
    {
      "cell_type": "code",
      "execution_count": 12,
      "metadata": {},
      "outputs": [
        {
          "output_type": "stream",
          "name": "stdout",
          "text": [
            "Constructing Video. Adding img:  MOT16-09_000523.jpg\n",
            "Done!\n"
          ]
        }
      ],
      "source": [
        "## Load data\n",
        "data_input, data_out, images = load_data(detection_data_dir,filtered_data_dir,images_dir)\n",
        "\n",
        "## Display filter output when images are not available\n",
        "# simple_filter_data_display(num_frames=2)\n",
        "\n",
        "## Display images in notebook\n",
        "# overlay_boxes_on_images(num_frames=5, mode=\"show\", path=output_img_dir)\n",
        "\n",
        "## Save images and make video\n",
        "overlay_boxes_on_images(num_frames=None, mode=\"save\", path=output_img_dir)\n",
        "video_from_images(output_img_dir)\n",
        "\n",
        "# Clean up images!\n",
        "for f in os.listdir(output_img_dir):\n",
        "    if f.endswith(\".jpg\"): os.remove(os.path.join(output_img_dir, f))\n",
        "\n",
        "\n",
        "print(\"\\nDone!\")"
      ]
    },
    {
      "source": [
        "# Post processing and tuning"
      ],
      "cell_type": "markdown",
      "metadata": {}
    },
    {
      "source": [
        "## Assigning IDs\n",
        "In its current state the filter does not track IDs. Evaluation code for MOT expects IDs. This code is a workaround so we can run evaluation."
      ],
      "cell_type": "markdown",
      "metadata": {}
    },
    {
      "cell_type": "code",
      "metadata": {
        "id": "r7NHfGF4lHKT"
      },
      "source": [
        "from python_utils.id_assigner import assign_ids_postfact\n",
        "data_with_ids_dir = 'data/output/filtered_' + VIDEO_NAME + '_with_ids'\n",
        "data = assign_ids_postfact(data_out)\n",
        "with open(data_with_ids_dir + '.json', 'w') as outfile:\n",
        "    json.dump(data, outfile, indent=4)"
      ],
      "execution_count": null,
      "outputs": []
    },
    {
      "source": [
        "## Formatting as txt\n",
        "Adjusts text type and format to allow running the evaluation code provided by MOT"
      ],
      "cell_type": "markdown",
      "metadata": {}
    },
    {
      "cell_type": "code",
      "execution_count": null,
      "metadata": {},
      "outputs": [],
      "source": [
        "from python_utils.json_to_txt import json_to_txt\n",
        "json_to_txt(data_with_ids_dir)"
      ]
    },
    {
      "cell_type": "code",
      "execution_count": null,
      "metadata": {},
      "outputs": [],
      "source": []
    }
  ]
}