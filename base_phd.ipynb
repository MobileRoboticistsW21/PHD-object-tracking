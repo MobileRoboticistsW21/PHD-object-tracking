{
  "nbformat": 4,
  "nbformat_minor": 0,
  "metadata": {
    "colab": {
      "name": "base_phd.ipynb",
      "provenance": [],
      "collapsed_sections": []
    },
    "kernelspec": {
      "name": "python3",
      "display_name": "Python 3"
    },
    "language_info": {
      "name": "python"
    }
  },
  "cells": [
    {
      "cell_type": "code",
      "metadata": {
        "colab": {
          "base_uri": "https://localhost:8080/"
        },
        "id": "jI8_6t3wKy_g",
        "outputId": "98c152ef-3a89-48e0-b7a8-179b0f1e0197"
      },
      "source": [
        "!git clone https://github.com/MobileRoboticistsW21/PHD-object-traking.git"
      ],
      "execution_count": 1,
      "outputs": [
        {
          "output_type": "stream",
          "text": [
            "Cloning into 'PHD-object-traking'...\n",
            "remote: Enumerating objects: 204, done.\u001b[K\n",
            "remote: Counting objects: 100% (204/204), done.\u001b[K\n",
            "remote: Compressing objects: 100% (138/138), done.\u001b[K\n",
            "remote: Total 204 (delta 105), reused 148 (delta 64), pack-reused 0\u001b[K\n",
            "Receiving objects: 100% (204/204), 100.76 KiB | 5.93 MiB/s, done.\n",
            "Resolving deltas: 100% (105/105), done.\n"
          ],
          "name": "stdout"
        }
      ]
    },
    {
      "cell_type": "code",
      "metadata": {
        "colab": {
          "base_uri": "https://localhost:8080/"
        },
        "id": "fE5Wzi0tzPwk",
        "outputId": "a4d4f919-205d-4562-e230-dcf91c2d1ff6"
      },
      "source": [
        "%cd PHD-object-traking/"
      ],
      "execution_count": 3,
      "outputs": [
        {
          "output_type": "stream",
          "text": [
            "/content/PHD-object-traking\n"
          ],
          "name": "stdout"
        }
      ]
    },
    {
      "cell_type": "code",
      "metadata": {
        "colab": {
          "base_uri": "https://localhost:8080/"
        },
        "id": "3VH1NS78D8PV",
        "outputId": "69be2d6c-798e-44b7-d139-8a52c8ed6f3f"
      },
      "source": [
        "!git checkout work/filter_abstraction\n",
        "!git pull"
      ],
      "execution_count": 5,
      "outputs": [
        {
          "output_type": "stream",
          "text": [
            "Already on 'work/filter_abstraction'\n",
            "Your branch is up to date with 'origin/work/filter_abstraction'.\n",
            "Already up to date.\n"
          ],
          "name": "stdout"
        }
      ]
    },
    {
      "cell_type": "code",
      "metadata": {
        "id": "nUY97L2n4KTZ"
      },
      "source": [
        "%cd /content/PHD-object-traking/\n",
        "!bash setup.sh\n",
        "!mkdir build\n",
        "%cd build"
      ],
      "execution_count": null,
      "outputs": []
    },
    {
      "cell_type": "code",
      "metadata": {
        "id": "E45V-qBTK81J"
      },
      "source": [
        "!cmake ..\n",
        "!make phd_json_dump"
      ],
      "execution_count": null,
      "outputs": []
    },
    {
      "cell_type": "code",
      "metadata": {
        "colab": {
          "base_uri": "https://localhost:8080/"
        },
        "id": "Biyqo2I89KzE",
        "outputId": "e3bfbda8-3631-492a-9f7a-f959f8adac0f"
      },
      "source": [
        "!./phd_json_dump"
      ],
      "execution_count": 8,
      "outputs": [
        {
          "output_type": "stream",
          "text": [
            "enter the relative data file directory: ^C\n"
          ],
          "name": "stdout"
        }
      ]
    },
    {
      "cell_type": "code",
      "metadata": {
        "id": "TYPu6hts4pb7"
      },
      "source": [
        "#TODO:\n",
        "#call the visualization here:\n"
      ],
      "execution_count": null,
      "outputs": []
    }
  ]
}