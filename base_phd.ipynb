{
  "nbformat": 4,
  "nbformat_minor": 0,
  "metadata": {
    "colab": {
      "name": "base_phd.ipynb",
      "provenance": [],
      "collapsed_sections": []
    },
    "kernelspec": {
      "name": "python3",
      "display_name": "Python 3",
      "language": "python"
    },
    "language_info": {
      "name": "python",
      "version": "3.8.5"
    }
  },
  "cells": [
    {
      "cell_type": "code",
      "execution_count": null,
      "metadata": {},
      "outputs": [],
      "source": [
        "%load_ext autoreload\n",
        "%autoreload 2"
      ]
    },
    {
      "cell_type": "code",
      "execution_count": null,
      "metadata": {},
      "outputs": [],
      "source": [
        "from google.colab import drive\n",
        "drive.mount('/content/drive')"
      ]
    },
    {
      "source": [
        "# Setting up PHD Filter\n",
        "This portion pulls and builds the filter code. If you have the filter code pulled, make sure to navigate \"cd\" into that directory."
      ],
      "cell_type": "markdown",
      "metadata": {}
    },
    {
      "cell_type": "code",
      "metadata": {
        "colab": {
          "base_uri": "https://localhost:8080/"
        },
        "id": "jI8_6t3wKy_g",
        "outputId": "ce002fcd-8670-489c-9314-af4c07911e0c"
      },
      "source": [
        "!git clone https://github.com/MobileRoboticistsW21/PHD-object-traking.git"
      ],
      "execution_count": null,
      "outputs": []
    },
    {
      "cell_type": "code",
      "metadata": {
        "colab": {
          "base_uri": "https://localhost:8080/"
        },
        "id": "fE5Wzi0tzPwk",
        "outputId": "f005787f-b0c4-4b1e-b265-f7aa171c96ce"
      },
      "source": [
        "%cd PHD-object-traking/"
      ],
      "execution_count": null,
      "outputs": []
    },
    {
      "cell_type": "code",
      "metadata": {
        "colab": {
          "base_uri": "https://localhost:8080/"
        },
        "id": "3VH1NS78D8PV",
        "outputId": "2a3fe4b5-78a1-498f-a6e3-eb8addc34005"
      },
      "source": [
        "!git checkout main   # can change this to main if branch is merged \n",
        "!git pull"
      ],
      "execution_count": null,
      "outputs": []
    },
    {
      "cell_type": "code",
      "metadata": {
        "id": "nUY97L2n4KTZ",
        "colab": {
          "base_uri": "https://localhost:8080/"
        },
        "outputId": "f7da5d6a-6d4b-4e59-f4d2-15f0edc2cac3"
      },
      "source": [
        "%cd /content/PHD-object-traking/\n",
        "!bash setup.sh\n",
        "!mkdir build\n",
        "%cd build"
      ],
      "execution_count": null,
      "outputs": []
    },
    {
      "cell_type": "code",
      "metadata": {
        "id": "E45V-qBTK81J",
        "colab": {
          "base_uri": "https://localhost:8080/"
        },
        "outputId": "ccbd7cca-141a-4c93-f887-606d416aae6f"
      },
      "source": [
        "!cmake ..\n",
        "!make phd_json_dump"
      ],
      "execution_count": null,
      "outputs": []
    },
    {
      "cell_type": "code",
      "metadata": {
        "colab": {
          "base_uri": "https://localhost:8080/"
        },
        "id": "Biyqo2I89KzE",
        "outputId": "311ca82a-220d-4cec-b19d-37e922042d98"
      },
      "source": [
        "!./phd_json_dump\n",
        "# enter this: ../data/first_20_frame_optical_res.json"
      ],
      "execution_count": null,
      "outputs": []
    },
    {
      "source": [
        "# Visualization and Testing\n",
        "\n",
        "Be sure to set the correct data paths for the code to run as expected."
      ],
      "cell_type": "markdown",
      "metadata": {}
    },
    {
      "cell_type": "code",
      "metadata": {
        "id": "S_PAUWpvx4cP"
      },
      "source": [
        "import matplotlib.pyplot as plt\n",
        "import matplotlib.patches as patches\n",
        "import json\n",
        "from google.colab.patches import cv2_imshow\n",
        "import cv2\n",
        "import numpy as np"
      ],
      "execution_count": null,
      "outputs": []
    },
    {
      "cell_type": "code",
      "execution_count": null,
      "metadata": {},
      "outputs": [],
      "source": [
        "# filtered_data_dir = \"/content/drive/My Drive/PhD_FIlter_Miracle_runs/PHD-object-traking/output_data/run_output_MOT_16_14.json\"\n",
        "# detection_data_dir = \"/content/drive/My Drive/PhD_FIlter_Miracle_runs/PHD-object-traking/data/MOT16-14_optical_flow_res.json\"\n",
        "# images_loc = os.path.join('/content/drive/My Drive/Mask_RCNN_stuff/', 'MOT16-14')\n",
        "\n",
        "images_dir = \"/content/drive/My Drive/Mask_RCNN_stuff/MOT16-14\"\n",
        "filtered_data_dir = \"output_data/run_output_MOT_16_14.json\"\n",
        "detection_data_dir = \"data/MOT16-14_optical_flow_res.json\"\n",
        "ground_truth_dir = \"\""
      ]
    },
    {
      "cell_type": "code",
      "execution_count": null,
      "metadata": {},
      "outputs": [],
      "source": [
        "with open(filtered_data_dir, encoding='UTF-8', errors='ignore') as inputFile:\n",
        "    data_gen = json.load(inputFile)\n",
        "with open(detection_data_dir, encoding='UTF-8', errors='ignore') as inputFile:\n",
        "    data_input = json.load(inputFile)\n",
        "images = os.listdir(images_loc)"
      ]
    },
    {
      "cell_type": "code",
      "metadata": {
        "colab": {
          "base_uri": "https://localhost:8080/",
          "height": 1000
        },
        "id": "AxMCWM2F4IcY",
        "outputId": "5f9423ff-a04c-40ab-f6f0-08831a7b358e"
      },
      "source": [
        "for i in range(len(data_gen)):             # number of frames\n",
        "    bbs = data_gen[i]['bb']\n",
        "    weights = data_gen[i]['weights']\n",
        "\n",
        "    plt.clf(); plt.xlim(0, 540); plt.ylim(0, 960);\n",
        "    ax = plt.axes()\n",
        "    for bb in bbs:\n",
        "        rect = patches.Rectangle((bb[0] - bb[2] / 2, bb[1] - bb[3] / 2), bb[2], bb[3], linewidth=1, edgecolor='r', facecolor='none')\n",
        "        ax.add_patch(rect)\n",
        "    # plt.show()\n",
        "    plt.pause(0.000001);\n"
      ],
      "execution_count": null,
      "outputs": []
    },
    {
      "cell_type": "code",
      "metadata": {
        "id": "r7NHfGF4lHKT"
      },
      "source": [
        "from python_utils.id_assigner import assign_ids_postfact\n",
        "data = assign_ids_postfact(data)\n",
        "\n",
        "with open('/content/PHD-object-traking/build/run_phd_output_extract_with_ids.json', 'w') as outfile:\n",
        "    json.dump(data, outfile, indent=4)"
      ],
      "execution_count": null,
      "outputs": []
    },
    {
      "cell_type": "code",
      "execution_count": null,
      "metadata": {},
      "outputs": [],
      "source": [
        "from python_utils.box_vis_utils import xywh_to_corners\n",
        "\n",
        "# NOTE I AM offseting the images to 1 on purpose because optical flow\n",
        "Length = 20\n",
        "\n",
        "for image,in_data, gen_data in zip(images[1:Length+1], data_input[:Length], data_gen[:Length]):             # number of frames\n",
        "  image = cv2.imread(os.path.join(images_loc, images[0]))\n",
        "  # I am assuming that data is still outputting xywh formatted data\n",
        "  data_tlbr_in = xywh_to_corners(in_data['bb'])\n",
        "  data_tlbr_gen = xywh_to_corners(gen_data['bb'])\n",
        "  for bbox_in in data_tlbr_in:\n",
        "    # right now its in xywh so covert to tlbr\n",
        "    cv2.rectangle(image, (int(bbox_in[0]), int(bbox_in[1])), (int(bbox_in[2]), int(bbox_in[3])),(100,255,0), 2)\n",
        "  # for bbox_gen in data_tlbr_gen:\n",
        "  #   cv2.rectangle(image, (int(bbox_gen[0]), int(bbox_gen[1])), (int(bbox_gen[2]), int(bbox_gen[3])),(255,0,0), 2)\n",
        "  cv2_imshow(image)"
      ]
    }
  ]
}