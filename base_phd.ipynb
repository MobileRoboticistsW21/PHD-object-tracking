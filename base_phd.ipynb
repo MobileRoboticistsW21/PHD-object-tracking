{
  "nbformat": 4,
  "nbformat_minor": 0,
  "metadata": {
    "colab": {
      "name": "base_phd.ipynb",
      "provenance": [],
      "collapsed_sections": []
    },
    "kernelspec": {
      "name": "python3",
      "display_name": "Python 3",
      "language": "python"
    },
    "language_info": {
      "name": "python",
      "version": "3.8.5"
    }
  },
  "cells": [
    {
      "cell_type": "code",
      "metadata": {
        "colab": {
          "base_uri": "https://localhost:8080/"
        },
        "id": "jI8_6t3wKy_g",
        "outputId": "ce002fcd-8670-489c-9314-af4c07911e0c"
      },
      "source": [
        "!git clone https://github.com/MobileRoboticistsW21/PHD-object-traking.git\n",
        "%cd PHD-object-traking/"
      ],
      "execution_count": null,
      "outputs": []
    },
    {
      "cell_type": "code",
      "metadata": {
        "colab": {
          "base_uri": "https://localhost:8080/"
        },
        "id": "fE5Wzi0tzPwk",
        "outputId": "f005787f-b0c4-4b1e-b265-f7aa171c96ce"
      },
      "source": [
        "%cd PHD-object-traking/"
      ],
      "execution_count": null,
      "outputs": []
    },
    {
      "cell_type": "code",
      "metadata": {
        "colab": {
          "base_uri": "https://localhost:8080/"
        },
        "id": "3VH1NS78D8PV",
        "outputId": "2a3fe4b5-78a1-498f-a6e3-eb8addc34005"
      },
      "source": [
        "!git checkout plot_in_notebook   # can change this to main if branch is merged \n",
        "!git pull"
      ],
      "execution_count": null,
      "outputs": []
    },
    {
      "cell_type": "code",
      "metadata": {
        "id": "nUY97L2n4KTZ",
        "colab": {
          "base_uri": "https://localhost:8080/"
        },
        "outputId": "f7da5d6a-6d4b-4e59-f4d2-15f0edc2cac3"
      },
      "source": [
        "%cd /content/PHD-object-traking/\n",
        "!bash setup.sh\n",
        "!mkdir build\n",
        "%cd build"
      ],
      "execution_count": null,
      "outputs": []
    },
    {
      "cell_type": "code",
      "metadata": {
        "id": "E45V-qBTK81J",
        "colab": {
          "base_uri": "https://localhost:8080/"
        },
        "outputId": "ccbd7cca-141a-4c93-f887-606d416aae6f"
      },
      "source": [
        "!cmake ..\n",
        "!make phd_json_dump"
      ],
      "execution_count": null,
      "outputs": []
    },
    {
      "cell_type": "code",
      "metadata": {
        "colab": {
          "base_uri": "https://localhost:8080/"
        },
        "id": "Biyqo2I89KzE",
        "outputId": "311ca82a-220d-4cec-b19d-37e922042d98"
      },
      "source": [
        "!./phd_json_dump\n",
        "# enter this: ../data/first_20_frame_optical_res.json"
      ],
      "execution_count": null,
      "outputs": []
    },
    {
      "cell_type": "code",
      "metadata": {
        "id": "TYPu6hts4pb7"
      },
      "source": [
        "#TODO:\n",
        "#call the visualization here:\n",
        "\n",
        "# motion model\n",
        "# plot in python\n",
        "# look into weights\n",
        "# "
      ],
      "execution_count": null,
      "outputs": []
    },
    {
      "cell_type": "code",
      "metadata": {
        "id": "S_PAUWpvx4cP"
      },
      "source": [
        "import matplotlib.pyplot as plt\n",
        "import matplotlib.patches as patches\n",
        "import json\n",
        "with open(\"/content/PHD-object-traking/build/tracks_dump.json\", encoding='UTF-8', errors='ignore') as inputFile:\n",
        "    data = json.load(inputFile)"
      ],
      "execution_count": null,
      "outputs": []
    },
    {
      "cell_type": "code",
      "metadata": {
        "colab": {
          "base_uri": "https://localhost:8080/",
          "height": 1000
        },
        "id": "AxMCWM2F4IcY",
        "outputId": "5f9423ff-a04c-40ab-f6f0-08831a7b358e"
      },
      "source": [
        "for i in range(len(data)):             # number of frames\n",
        "    n = len(data[i]['bb'])             # number of particles\n",
        "    bbs = data[i]['bb']\n",
        "    weights = data[i]['weights']\n",
        "    print(\"frame \", i)\n",
        "    print(weights)\n",
        "    #flows = data[i]['flows']\n",
        "    plt.clf();\n",
        "    plt.xlim(0, 540);\n",
        "    plt.ylim(0, 960);\n",
        "    \n",
        "    ax = plt.axes()\n",
        "    for bb in bbs:\n",
        "        rect = patches.Rectangle((bb[0] - bb[2] / 2, bb[1] - bb[3] / 2), bb[2], bb[3], linewidth=1, edgecolor='r', facecolor='none')\n",
        "        ax.add_patch(rect)\n",
        "    plt.show()\n",
        "    plt.pause(0.000001);\n"
      ],
      "execution_count": null,
      "outputs": []
    },
    {
      "cell_type": "code",
      "metadata": {
        "id": "r7NHfGF4lHKT"
      },
      "source": [
        "from python_utils.id_assigner import assign_ids_postfact\n",
        "data = assign_ids_postfact(data)\n",
        "\n",
        "with open('/content/PHD-object-traking/build/run_phd_output_extract_with_ids.json', 'w') as outfile:\n",
        "    json.dump(data, outfile, indent=4)"
      ],
      "execution_count": null,
      "outputs": []
    },
    {
      "cell_type": "code",
      "execution_count": null,
      "metadata": {},
      "outputs": [],
      "source": []
    }
  ]
}